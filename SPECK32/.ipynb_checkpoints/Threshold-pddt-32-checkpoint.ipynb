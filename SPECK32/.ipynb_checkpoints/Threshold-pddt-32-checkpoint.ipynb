{
 "cells": [
  {
   "cell_type": "markdown",
   "metadata": {},
   "source": [
    "### function to calculate minimum probility p_min to check given condition"
   ]
  },
  {
   "cell_type": "code",
   "execution_count": 1,
   "metadata": {
    "collapsed": true
   },
   "outputs": [],
   "source": [
    "def p_minimum(n,trail_cap,B_cap,B_bar):\n",
    "        p_min = 1.0;\n",
    "        for i in range(0,n):\n",
    "            p_min *= trail_cap[i].wt\n",
    "        p_min = p_min * B_cap[nrounds - 1 - (n + 1)]; \n",
    "        p_min = B_bar/p_min\n",
    "        #print(B_bar,p_min)\n",
    "        return p_min"
   ]
  },
  {
   "cell_type": "markdown",
   "metadata": {},
   "source": [
    "### function to check given inputs are available in highways path list or not "
   ]
  },
  {
   "cell_type": "code",
   "execution_count": 2,
   "metadata": {
    "collapsed": true
   },
   "outputs": [],
   "source": [
    "def highwaylist():\n",
    "    alph,bet,gam,pro = [],[],[],[]\n",
    "    with open('alph.txt') as ip1, open('bet.txt') as ip2, open('gam.txt') as ip3, open('pro.txt') as ip4:\n",
    "        for i1,i2,i3,i4 in zip(ip1,ip2,ip3,ip4):\n",
    "            hw.append(NMTS(int(i1.strip()),int(i2.strip()),int(i3.strip()),float(i4.strip()))) \n",
    "            "
   ]
  },
  {
   "cell_type": "markdown",
   "metadata": {},
   "source": [
    "### function to calculate weight "
   ]
  },
  {
   "cell_type": "code",
   "execution_count": 3,
   "metadata": {
    "collapsed": true
   },
   "outputs": [],
   "source": [
    "def weight(alpha1,beta1,gamma1): \n",
    "    if(alpha1==0 and beta1==0 and gamma1==0):\n",
    "        return -200\n",
    "    x1= (alpha1 << 1)& mask\n",
    "    y1= (beta1  << 1)& mask\n",
    "    z1= (gamma1  << 1)& mask\n",
    "    not_x=(x1^mask)\n",
    "    eq=((not_x)^y1)&(not_x^z1)\n",
    "    s=eq&(alpha1^beta1^gamma1^(y1))\n",
    "    if(s==0):        \n",
    "        h=bin((~eq)& mask)\n",
    "        wt=(h[1:].count(\"1\"))\n",
    "        return math.pow(2,-wt)\n",
    "    else:\n",
    "        return -200"
   ]
  },
  {
   "cell_type": "code",
   "execution_count": 4,
   "metadata": {
    "collapsed": true
   },
   "outputs": [],
   "source": [
    "#weight(0, 673, 0)"
   ]
  },
  {
   "cell_type": "code",
   "execution_count": 5,
   "metadata": {
    "collapsed": true
   },
   "outputs": [],
   "source": [
    "##function to update croad with prob more than pmin and output is in highway"
   ]
  },
  {
   "cell_type": "code",
   "execution_count": 6,
   "metadata": {
    "collapsed": true
   },
   "outputs": [],
   "source": [
    "def PDDT1(n,p_thres,k,wt,da,db,dc,s,maxddt,ddt):\n",
    "    if(n==k):\n",
    "        ddt.append(NMTS(da,db,dc,wt))\n",
    "        #print(da,db,dc,s)\n",
    "        if(wt>=s):\n",
    "            maxddt.append(NMTS(da,db,dc,wt))\n",
    "            #print(maxddt[0].dx,maxddt[0].dy,maxddt[0].dz,maxddt[0].wt,s)\n",
    "        #print(da,db,dc,wt)\n",
    "        return \n",
    "    \n",
    "    for z in range(0,2):\n",
    "        new_dc= (dc | (z<<k) & mask)\n",
    "        wt= weight(da,db,new_dc)\n",
    "        if(wt >= p_thres or (k+1)!=n):                    \n",
    "            PDDT1(n,p_thres,k+1,wt,da,db,new_dc,s,maxddt,ddt) \n",
    "            \n",
    "    if(len(ddt)==0):\n",
    "        return 0,ddt,maxddt\n",
    "    else:\n",
    "        return 1,ddt,maxddt\n",
    "   "
   ]
  },
  {
   "cell_type": "code",
   "execution_count": 7,
   "metadata": {
    "collapsed": true
   },
   "outputs": [],
   "source": [
    "##fucntion to find output for which weight is max"
   ]
  },
  {
   "cell_type": "code",
   "execution_count": 8,
   "metadata": {
    "collapsed": true
   },
   "outputs": [],
   "source": [
    "def PDDT(n,p_thres,k,wt,da,db,dc,s,maxddt,ddt):\n",
    "    if(n==k):\n",
    "        ddt.append(NMTS(da,db,dc,wt))\n",
    "        #print(da,db,dc,s)\n",
    "        if(wt>=s):\n",
    "            s=wt\n",
    "            maxddt.append(NMTS(da,db,dc,s))\n",
    "            #print(maxddt[0].dx,maxddt[0].dy,maxddt[0].dz,maxddt[0].wt,s)\n",
    "        #print(da,db,dc,wt)\n",
    "        return \n",
    "    \n",
    "    for z in range(0,2):\n",
    "        new_dc= (dc | (z<<k) & mask)\n",
    "        wt= weight(da,db,new_dc)\n",
    "        if(wt >= p_thres or (k+1)!=n):                    \n",
    "            PDDT(n,p_thres,k+1,wt,da,db,new_dc,s,maxddt,ddt) \n",
    "            \n",
    "    if(len(ddt)==0):\n",
    "        return 0,ddt,maxddt\n",
    "    else:\n",
    "        return 1,ddt,maxddt\n",
    "   "
   ]
  },
  {
   "cell_type": "code",
   "execution_count": 9,
   "metadata": {
    "collapsed": true
   },
   "outputs": [],
   "source": [
    "#ck,ddt,maxddt=PDDT(16,0.1,0,1,256,33802,0,s)\n",
    "#print(ck)"
   ]
  },
  {
   "cell_type": "markdown",
   "metadata": {},
   "source": [
    "### function to perform left and right circular rotation "
   ]
  },
  {
   "cell_type": "code",
   "execution_count": 10,
   "metadata": {
    "collapsed": true
   },
   "outputs": [],
   "source": [
    "\n",
    "#right circular shifts\n",
    "def ROR(x,r):\n",
    "    x = ((x << (SPECK_TYPE - r)) + (x >> r)) & mask\n",
    "    return x\n",
    "\n",
    "#left circular shifts\n",
    "def ROL(x,r):\n",
    "    x = ((x >> (SPECK_TYPE - r)) + (x << r)) & mask\n",
    "    return x"
   ]
  },
  {
   "cell_type": "markdown",
   "metadata": {},
   "source": [
    "### main function for threshold search"
   ]
  },
  {
   "cell_type": "code",
   "execution_count": 11,
   "metadata": {
    "collapsed": true
   },
   "outputs": [],
   "source": [
    "def threshold_search(n,nrounds,hw,B_cap,B_bar,B_barlist,st0,st1,op,w1):\n",
    "    if(n == 0): \n",
    "        #print(n)\n",
    "        #print(\"loop\")\n",
    "        #print(st1,st0,op,w1)\n",
    "        B_cap_temp[nrounds-1]=w1*B_cap[nrounds-1-(n+1)]\n",
    "        if(B_cap_temp[nrounds-1]>B_bar):\n",
    "            B_barlist[n]=w1\n",
    "            trail_cap[n]= NMTS(ROL(st1,alpha),st0,op,w1)\n",
    "            st1=op\n",
    "            st0=ROL(st0,beta)^st1\n",
    "            return threshold_search(n+1,nrounds,hw,B_cap,B_bar,B_barlist,st0,st1,op,w1)\n",
    "        else:\n",
    "            return B_bar,B_cap \n",
    "            \n",
    "    if((n > 0) & (n != (nrounds - 1))):\n",
    "        #print(n)\n",
    "        st1=ROR(st1,alpha)\n",
    "        p_min=p_minimum(n,trail_cap,B_cap,B_bar)\n",
    "        croad=[]\n",
    "        #function that check output is in highway and weight is greater than p_min or not, if it is update croad\n",
    "        maxddt,ddt,max_p=[],[],0\n",
    "        ck,ddt,maxddt=PDDT1(SPECK_TYPE,0.1,0,1,st1,st0,0,p_min,maxddt,ddt)\n",
    "        if(ck==1):\n",
    "            for i in range(0,len(maxddt)):\n",
    "                croad.append(NMTS(maxddt[i].dx,maxddt[i].dy,maxddt[i].dz,maxddt[i].wt))\n",
    "                         \n",
    "        #opcheck_in_highways(0,p_min,st1,st0)\n",
    "        #if croad is still empty then fill it with max probility value for other outputs except highway\n",
    "        if(len(croad) == 0):\n",
    "            crddt,ddt,max_p=[],[],0\n",
    "            #print(st1,st0,max_p)\n",
    "            ck,ddt,crddt=PDDT(SPECK_TYPE,0,0,1,st1,st0,0,max_p,crddt,ddt)\n",
    "            #max_p,output,ck=max(0,st1,st0)\n",
    "            if(ck==1):\n",
    "                for i in range(0,len(crddt)):\n",
    "                    croad.append(NMTS(crddt[i].dx,crddt[i].dy,crddt[i].dz,crddt[i].wt))\n",
    "            else:\n",
    "                return B_bar,B_cap\n",
    "        \n",
    "        #for i in range(0,len(croad)):\n",
    "            #print(croad[i].dx,croad[i].dy,croad[i].dz,croad[i].wt)\n",
    "        #check the inputs in highway or not \n",
    "        crhw = []\n",
    "        temphw=[]\n",
    "        maxddt,ddt,max_p=[],[],0\n",
    "        ck,ddt,maxddt=PDDT(SPECK_TYPE,0.1,0,1,st1,st0,0,max_p,maxddt,ddt)\n",
    "        #val1,val2,val3,w,chk= searchinhighway(st1,st0)\n",
    "        if(ck==1):\n",
    "            for i in range(0,len(ddt)):\n",
    "                crhw.append(NMTS(ddt[i].dx,ddt[i].dy,ddt[i].dz,ddt[i].wt))\n",
    "        \n",
    "        for i in range(0,len(croad)):\n",
    "            crhw.append(NMTS(croad[i].dx,croad[i].dy,croad[i].dz,croad[i].wt))\n",
    "\n",
    "            \n",
    "        p_r=1\n",
    "        for i in range(0,n):\n",
    "            p_r *= trail_cap[i].wt\n",
    "        for i in range(0,len(crhw)):\n",
    "            B_cap_temp[nrounds-1]= p_r * crhw[i].wt * B_cap[nrounds - 1 - (n + 1)]\n",
    "            if(B_cap_temp[nrounds-1]>B_bar):\n",
    "                B_barlist[n]=p_r * crhw[i].wt\n",
    "                trail_cap[n]=NMTS(ROL(crhw[i].dx,alpha),crhw[i].dy,crhw[i].dz,crhw[i].wt)\n",
    "                st1=crhw[i].dz\n",
    "                st0=ROL(st0,beta)^st1\n",
    "                return threshold_search(n+1,nrounds,hw,B_cap,B_bar,B_barlist,st0,st1,op,w1)\n",
    "            else:\n",
    "                return B_bar,B_cap\n",
    "            return B_bar,B_cap\n",
    "                    \n",
    "    if(n ==(nrounds - 1)):\n",
    "        st1=ROR(st1,alpha)\n",
    "        #print(n)\n",
    "        crddt,ddt,max_p=[],[],0\n",
    "        ck,ddt,crddt=PDDT(SPECK_TYPE,0.1,0,1,st1,st0,0,max_p,crddt,ddt)\n",
    "        #max_p,output,ck=max(0,st1,st0)\n",
    "        if(ck==1):\n",
    "            p=crddt[0].wt\n",
    "            op=crddt[0].dz\n",
    "        else:\n",
    "            crddt,ddt,max_p=[],[],0\n",
    "            ck,ddt,crddt=PDDT(SPECK_TYPE,0,0,1,st1,st0,0,max_p,crddt,ddt)\n",
    "            if(ck==1):\n",
    "                p=crddt[0].wt\n",
    "                op=crddt[0].dz\n",
    "                if(p>=0.1):\n",
    "                     hw.append(NMTS(st1,st0,op,p))\n",
    "                \n",
    "        if(ck==0):\n",
    "            return B_bar,B_cap             \n",
    "        p_r=1\n",
    "        for i in range(0,n):\n",
    "            p_r *= trail_cap[i].wt\n",
    "        B_cap_temp[nrounds-1]=p * p_r\n",
    "        if(B_cap_temp[nrounds-1]>B_bar):\n",
    "            B_barlist[n]=B_cap_temp[nrounds-1]\n",
    "            #print (\"%.16f %.16f\" % (B_cap_temp[n],B_bar))\n",
    "            trail_cap[n]=NMTS(ROL(st1,alpha),st0,op,p)\n",
    "            B_bar=B_cap_temp[nrounds-1]\n",
    "            for i in range(0,len(B_cap)):\n",
    "                B_cap[i]=B_barlist[i]\n",
    "                B_bar=B_cap_temp[n]  \n",
    "            for i in range(0,len(trail_cap)):\n",
    "                print(trail_cap[i].dx,trail_cap[i].dy,trail_cap[i].dz,trail_cap[i].wt)\n",
    "            return B_bar,B_cap\n",
    "        else:\n",
    "            return B_bar,B_cap\n",
    "    "
   ]
  },
  {
   "cell_type": "code",
   "execution_count": 12,
   "metadata": {},
   "outputs": [
    {
     "name": "stdout",
     "output_type": "stream",
     "text": [
      "0.000000000000000000000000000404\n"
     ]
    },
    {
     "ename": "KeyboardInterrupt",
     "evalue": "",
     "output_type": "error",
     "traceback": [
      "\u001b[0;31m---------------------------------------------------------------------------\u001b[0m",
      "\u001b[0;31mKeyboardInterrupt\u001b[0m                         Traceback (most recent call last)",
      "\u001b[0;32m<ipython-input-12-aa8aea944f59>\u001b[0m in \u001b[0;36m<module>\u001b[0;34m()\u001b[0m\n\u001b[1;32m     27\u001b[0m         \u001b[0mself\u001b[0m\u001b[0;34m.\u001b[0m\u001b[0mwt\u001b[0m \u001b[0;34m=\u001b[0m \u001b[0mwt\u001b[0m\u001b[0;34m\u001b[0m\u001b[0m\n\u001b[1;32m     28\u001b[0m \u001b[0;34m\u001b[0m\u001b[0m\n\u001b[0;32m---> 29\u001b[0;31m \u001b[0mhighwaylist\u001b[0m\u001b[0;34m(\u001b[0m\u001b[0;34m)\u001b[0m\u001b[0;34m\u001b[0m\u001b[0m\n\u001b[0m\u001b[1;32m     30\u001b[0m \u001b[0;32mfor\u001b[0m \u001b[0mch\u001b[0m \u001b[0;32min\u001b[0m \u001b[0mrange\u001b[0m\u001b[0;34m(\u001b[0m\u001b[0;36m13\u001b[0m\u001b[0;34m,\u001b[0m\u001b[0;36m12000\u001b[0m\u001b[0;34m)\u001b[0m\u001b[0;34m:\u001b[0m\u001b[0;34m\u001b[0m\u001b[0m\n\u001b[1;32m     31\u001b[0m     \u001b[0;31m#print(n,nrounds,B_bar,hw[ch].dx,hw[ch].dy,hw[ch].dz,hw[ch].wt)\u001b[0m\u001b[0;34m\u001b[0m\u001b[0;34m\u001b[0m\u001b[0m\n",
      "\u001b[0;32m<ipython-input-2-f4086ade0eda>\u001b[0m in \u001b[0;36mhighwaylist\u001b[0;34m()\u001b[0m\n\u001b[1;32m      3\u001b[0m     \u001b[0;32mwith\u001b[0m \u001b[0mopen\u001b[0m\u001b[0;34m(\u001b[0m\u001b[0;34m'alph.txt'\u001b[0m\u001b[0;34m)\u001b[0m \u001b[0;32mas\u001b[0m \u001b[0mip1\u001b[0m\u001b[0;34m,\u001b[0m \u001b[0mopen\u001b[0m\u001b[0;34m(\u001b[0m\u001b[0;34m'bet.txt'\u001b[0m\u001b[0;34m)\u001b[0m \u001b[0;32mas\u001b[0m \u001b[0mip2\u001b[0m\u001b[0;34m,\u001b[0m \u001b[0mopen\u001b[0m\u001b[0;34m(\u001b[0m\u001b[0;34m'gam.txt'\u001b[0m\u001b[0;34m)\u001b[0m \u001b[0;32mas\u001b[0m \u001b[0mip3\u001b[0m\u001b[0;34m,\u001b[0m \u001b[0mopen\u001b[0m\u001b[0;34m(\u001b[0m\u001b[0;34m'pro.txt'\u001b[0m\u001b[0;34m)\u001b[0m \u001b[0;32mas\u001b[0m \u001b[0mip4\u001b[0m\u001b[0;34m:\u001b[0m\u001b[0;34m\u001b[0m\u001b[0m\n\u001b[1;32m      4\u001b[0m         \u001b[0;32mfor\u001b[0m \u001b[0mi1\u001b[0m\u001b[0;34m,\u001b[0m\u001b[0mi2\u001b[0m\u001b[0;34m,\u001b[0m\u001b[0mi3\u001b[0m\u001b[0;34m,\u001b[0m\u001b[0mi4\u001b[0m \u001b[0;32min\u001b[0m \u001b[0mzip\u001b[0m\u001b[0;34m(\u001b[0m\u001b[0mip1\u001b[0m\u001b[0;34m,\u001b[0m\u001b[0mip2\u001b[0m\u001b[0;34m,\u001b[0m\u001b[0mip3\u001b[0m\u001b[0;34m,\u001b[0m\u001b[0mip4\u001b[0m\u001b[0;34m)\u001b[0m\u001b[0;34m:\u001b[0m\u001b[0;34m\u001b[0m\u001b[0m\n\u001b[0;32m----> 5\u001b[0;31m             \u001b[0mhw\u001b[0m\u001b[0;34m.\u001b[0m\u001b[0mappend\u001b[0m\u001b[0;34m(\u001b[0m\u001b[0mNMTS\u001b[0m\u001b[0;34m(\u001b[0m\u001b[0mint\u001b[0m\u001b[0;34m(\u001b[0m\u001b[0mi1\u001b[0m\u001b[0;34m.\u001b[0m\u001b[0mstrip\u001b[0m\u001b[0;34m(\u001b[0m\u001b[0;34m)\u001b[0m\u001b[0;34m)\u001b[0m\u001b[0;34m,\u001b[0m\u001b[0mint\u001b[0m\u001b[0;34m(\u001b[0m\u001b[0mi2\u001b[0m\u001b[0;34m.\u001b[0m\u001b[0mstrip\u001b[0m\u001b[0;34m(\u001b[0m\u001b[0;34m)\u001b[0m\u001b[0;34m)\u001b[0m\u001b[0;34m,\u001b[0m\u001b[0mint\u001b[0m\u001b[0;34m(\u001b[0m\u001b[0mi3\u001b[0m\u001b[0;34m.\u001b[0m\u001b[0mstrip\u001b[0m\u001b[0;34m(\u001b[0m\u001b[0;34m)\u001b[0m\u001b[0;34m)\u001b[0m\u001b[0;34m,\u001b[0m\u001b[0mfloat\u001b[0m\u001b[0;34m(\u001b[0m\u001b[0mi4\u001b[0m\u001b[0;34m.\u001b[0m\u001b[0mstrip\u001b[0m\u001b[0;34m(\u001b[0m\u001b[0;34m)\u001b[0m\u001b[0;34m)\u001b[0m\u001b[0;34m)\u001b[0m\u001b[0;34m)\u001b[0m\u001b[0;34m\u001b[0m\u001b[0m\n\u001b[0m\u001b[1;32m      6\u001b[0m \u001b[0;34m\u001b[0m\u001b[0m\n",
      "\u001b[0;32m<ipython-input-12-aa8aea944f59>\u001b[0m in \u001b[0;36m__init__\u001b[0;34m(self, dx, dy, dz, wt)\u001b[0m\n\u001b[1;32m     22\u001b[0m     \u001b[0;34m\"\"\"__init__() functions as the class constructor\"\"\"\u001b[0m\u001b[0;34m\u001b[0m\u001b[0m\n\u001b[1;32m     23\u001b[0m     \u001b[0;32mdef\u001b[0m \u001b[0m__init__\u001b[0m\u001b[0;34m(\u001b[0m\u001b[0mself\u001b[0m\u001b[0;34m,\u001b[0m \u001b[0mdx\u001b[0m\u001b[0;34m=\u001b[0m\u001b[0;32mNone\u001b[0m\u001b[0;34m,\u001b[0m \u001b[0mdy\u001b[0m\u001b[0;34m=\u001b[0m\u001b[0;32mNone\u001b[0m\u001b[0;34m,\u001b[0m \u001b[0mdz\u001b[0m\u001b[0;34m=\u001b[0m\u001b[0;32mNone\u001b[0m\u001b[0;34m,\u001b[0m \u001b[0mwt\u001b[0m\u001b[0;34m=\u001b[0m\u001b[0;32mNone\u001b[0m\u001b[0;34m)\u001b[0m\u001b[0;34m:\u001b[0m\u001b[0;34m\u001b[0m\u001b[0m\n\u001b[0;32m---> 24\u001b[0;31m         \u001b[0mself\u001b[0m\u001b[0;34m.\u001b[0m\u001b[0mdx\u001b[0m \u001b[0;34m=\u001b[0m \u001b[0mdx\u001b[0m\u001b[0;34m\u001b[0m\u001b[0m\n\u001b[0m\u001b[1;32m     25\u001b[0m         \u001b[0mself\u001b[0m\u001b[0;34m.\u001b[0m\u001b[0mdy\u001b[0m \u001b[0;34m=\u001b[0m \u001b[0mdy\u001b[0m\u001b[0;34m\u001b[0m\u001b[0m\n\u001b[1;32m     26\u001b[0m         \u001b[0mself\u001b[0m\u001b[0;34m.\u001b[0m\u001b[0mdz\u001b[0m \u001b[0;34m=\u001b[0m \u001b[0mdz\u001b[0m\u001b[0;34m\u001b[0m\u001b[0m\n",
      "\u001b[0;31mKeyboardInterrupt\u001b[0m: "
     ]
    }
   ],
   "source": [
    "import random\n",
    "import math \n",
    "#alpha beta are for left and right circular shift     \n",
    "alpha, beta = 7,2\n",
    "#speck total number of round epresented by nrounds\n",
    "nrounds,n,s=9,0,0\n",
    "SPECK_TYPE=16\n",
    "mask,wshift = 2 ** 16 - 1, 15\n",
    "#B_cap=[0.00048,0.00048,0.0625,0.00048,0.00048,0.00048,0.00048,0.00048,0.00048]\n",
    "B_cap,B_bar=[2**(-11),2**(-22),2**(-33),2**(-38),2**(-49),2**(-60),2**(-71),2**(-82),2**(-91)],2 ** (-91)\n",
    "B_barlist=[0]*nrounds\n",
    "#B_cap,B_bar=[2**(-11),2**(-22),2**(-33),2**(-38)],2 ** (-38)\n",
    "trail_cap,trail_bar=[0]*nrounds, [0]*nrounds\n",
    "croad,hw,B_cap_temp=[],[],[0]*nrounds\n",
    "st0=0xA60\n",
    "st1=0x4205\n",
    "hlen=408603\n",
    "max_p,output=0,0\n",
    "maxddt,ddt,max_p=[],[],0\n",
    "print (\"%.30f\" % B_bar)\n",
    "class NMTS(object):\n",
    "    \"\"\"__init__() functions as the class constructor\"\"\"\n",
    "    def __init__(self, dx=None, dy=None, dz=None, wt=None):\n",
    "        self.dx = dx\n",
    "        self.dy = dy\n",
    "        self.dz = dz\n",
    "        self.wt = wt\n",
    "        \n",
    "highwaylist()\n",
    "for ch in range(13,12000):\n",
    "    #print(n,nrounds,B_bar,hw[ch].dx,hw[ch].dy,hw[ch].dz,hw[ch].wt)\n",
    "    B_bar,B_cap =threshold_search(n,nrounds,hw,B_cap,B_bar,B_barlist,hw[ch].dx,hw[ch].dy,hw[ch].dz,hw[ch].wt)\n",
    "    #print(\"%.30f\" %B_bar,ch)\n",
    "    print(B_bar,ch)\n",
    "    #for i in range(0,len(B_cap)):\n",
    "        #print(B_cap[i])"
   ]
  },
  {
   "cell_type": "code",
   "execution_count": null,
   "metadata": {
    "collapsed": true
   },
   "outputs": [],
   "source": []
  }
 ],
 "metadata": {
  "kernelspec": {
   "display_name": "Python 3",
   "language": "python",
   "name": "python3"
  },
  "language_info": {
   "codemirror_mode": {
    "name": "ipython",
    "version": 3
   },
   "file_extension": ".py",
   "mimetype": "text/x-python",
   "name": "python",
   "nbconvert_exporter": "python",
   "pygments_lexer": "ipython3",
   "version": "3.6.1"
  }
 },
 "nbformat": 4,
 "nbformat_minor": 2
}
