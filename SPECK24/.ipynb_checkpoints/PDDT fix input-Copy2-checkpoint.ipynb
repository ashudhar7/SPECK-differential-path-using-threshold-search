{
 "cells": [
  {
   "cell_type": "code",
   "execution_count": null,
   "metadata": {},
   "outputs": [],
   "source": [
    "import random\n",
    "import math\n",
    "def weight(alpha1,beta1,gamma1):  \n",
    "    x1= (alpha1 << 1)& mask\n",
    "    y1= (beta1  << 1)& mask\n",
    "    z1= (gamma1  << 1)& mask\n",
    "    not_x=(x1^mask)\n",
    "    eq=((not_x)^y1)&(not_x^z1)\n",
    "    s=eq&(alpha1^beta1^gamma1^(y1))\n",
    "    if(s==0):        \n",
    "        h=bin((~eq)& mask)\n",
    "        wt=(h[1:].count(\"1\"))\n",
    "        return math.pow(2,-wt)\n",
    "    else:\n",
    "        return -200\n",
    "    \n",
    "\n",
    "def store(da,db,dc,wt):\n",
    "    alpha.append(da)\n",
    "    beta.append(db)\n",
    "    gamma.append(dc)\n",
    "    prob.append(wt)        \n",
    "    return da,db,dc\n",
    "\n",
    "def PDDT(n,p_thres,k,wt,da,db,dc):\n",
    "    if(n==k):\n",
    "        print(da,db,dc,wt)\n",
    "        store(da,db,dc,wt)\n",
    "        return \n",
    "    \n",
    "    for z in range(0,mask):\n",
    "        new_dc= z\n",
    "        #print(z)\n",
    "        #print (new_da,new_db,new_dc,c,k,((2 ** k) - 1))\n",
    "        wt= weight(da,db,new_dc)\n",
    "        if(wt >= p_thres): \n",
    "            #print (new_da,new_db,new_dc,wt,k)\n",
    "            PDDT(n,p_thres,k+1,wt,da,db,new_dc)\n",
    "            \n",
    "\n",
    "mask = 2 ** 24 - 1\n",
    "alpha,beta,gamma,prob=[],[],[],[]\n",
    "print(8)\n",
    "PDDT(24,0,0,0,8192,2097153,0)\n",
    "for i in range(len(prob)):\n",
    "      print (alpha[i],beta[i],gamma[i],prob[i])\n",
    "len(prob)\n"
   ]
  },
  {
   "cell_type": "code",
   "execution_count": null,
   "metadata": {
    "collapsed": true
   },
   "outputs": [],
   "source": []
  }
 ],
 "metadata": {
  "kernelspec": {
   "display_name": "Python 3",
   "language": "python",
   "name": "python3"
  }
 },
 "nbformat": 4,
 "nbformat_minor": 2
}
