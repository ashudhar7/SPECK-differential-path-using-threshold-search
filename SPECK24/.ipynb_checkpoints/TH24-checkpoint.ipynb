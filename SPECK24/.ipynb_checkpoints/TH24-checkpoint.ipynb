{
 "cells": [
  {
   "cell_type": "markdown",
   "metadata": {},
   "source": [
    "### function to calculate minimum probility p_min to check given condition"
   ]
  },
  {
   "cell_type": "code",
   "execution_count": 1,
   "metadata": {
    "collapsed": true
   },
   "outputs": [],
   "source": [
    "def p_minimum(n,trail_cap,B_cap,B_bar):\n",
    "        p_min = 1.0;\n",
    "        for i in range(0,n):\n",
    "            p_min *= trail_cap[i].wt\n",
    "        p_min = p_min * B_cap[nrounds - 1 - (n + 1)]; \n",
    "        p_min = B_bar/p_min\n",
    "        #print(B_bar,p_min)\n",
    "        return p_min"
   ]
  },
  {
   "cell_type": "markdown",
   "metadata": {},
   "source": [
    "### function to check given inputs are available in highways path list or not "
   ]
  },
  {
   "cell_type": "code",
   "execution_count": 2,
   "metadata": {
    "collapsed": true
   },
   "outputs": [],
   "source": [
    "def highwaylist():\n",
    "    alph,bet,gam,pro = [],[],[],[]\n",
    "    with open('alph.txt') as ip1, open('bet.txt') as ip2, open('gam.txt') as ip3, open('pro.txt') as ip4:\n",
    "        for i1,i2,i3,i4 in zip(ip1,ip2,ip3,ip4):\n",
    "            hw.append(NMTS(int(i1.strip()),int(i2.strip()),int(i3.strip()),float(i4.strip()))) \n",
    "            "
   ]
  },
  {
   "cell_type": "markdown",
   "metadata": {},
   "source": [
    "### function to calculate weight "
   ]
  },
  {
   "cell_type": "code",
   "execution_count": 3,
   "metadata": {
    "collapsed": true
   },
   "outputs": [],
   "source": [
    "def weight(alpha1,beta1,gamma1): \n",
    "    x1= (alpha1 << 1)& mask\n",
    "    y1= (beta1  << 1)& mask\n",
    "    z1= (gamma1  << 1)& mask\n",
    "    not_x=(x1^mask)\n",
    "    eq=((not_x)^y1)&(not_x^z1)\n",
    "    s=eq&(alpha1^beta1^gamma1^(y1))\n",
    "    if(s==0):        \n",
    "        h=bin((~eq)& mask)\n",
    "        wt=(h[1:].count(\"1\"))\n",
    "        return math.pow(2,-wt)\n",
    "    else:\n",
    "        return -200"
   ]
  },
  {
   "cell_type": "code",
   "execution_count": 4,
   "metadata": {
    "collapsed": true
   },
   "outputs": [],
   "source": [
    "##fucntion to find output for which weight is max"
   ]
  },
  {
   "cell_type": "code",
   "execution_count": 6,
   "metadata": {
    "collapsed": true
   },
   "outputs": [],
   "source": [
    "def PDDT(n,p_thres,k,wt,da,db,dc,s,maxddt,ddt,m):\n",
    "    if(n==k):\n",
    "        ddt.append(NMTS(da,db,dc,wt))\n",
    "        if(wt>=s):\n",
    "            maxddt.append(NMTS(da,db,dc,wt))\n",
    "        return \n",
    "    \n",
    "    for z in range(0,2):\n",
    "        new_da= (da & ((2 ** m) - 1))\n",
    "        new_db= (db & ((2 ** m) - 1))\n",
    "        new_dc= (dc | (z<<k) & mask)\n",
    "        wt= weight(new_da,new_db,new_dc)\n",
    "        if(wt >= p_thres or ((z==1) and (k+1)!=n)):                    \n",
    "            PDDT(n,p_thres,k+1,wt,da,db,new_dc,s,maxddt,ddt,m+1)  \n",
    "            \n",
    "    if(len(ddt)==0):\n",
    "        return 0,ddt,maxddt\n",
    "    else:\n",
    "        return 1,ddt,maxddt\n",
    "   "
   ]
  },
  {
   "cell_type": "markdown",
   "metadata": {},
   "source": [
    "### function to perform left and right circular rotation "
   ]
  },
  {
   "cell_type": "code",
   "execution_count": 7,
   "metadata": {
    "collapsed": true
   },
   "outputs": [],
   "source": [
    "\n",
    "#right circular shifts\n",
    "def ROR(x,r):\n",
    "    x = ((x << (SPECK_TYPE - r)) + (x >> r)) & mask\n",
    "    return x\n",
    "\n",
    "#left circular shifts\n",
    "def ROL(x,r):\n",
    "    x = ((x >> (SPECK_TYPE - r)) + (x << r)) & mask\n",
    "    return x"
   ]
  },
  {
   "cell_type": "markdown",
   "metadata": {},
   "source": [
    "### main function for threshold search"
   ]
  },
  {
   "cell_type": "code",
   "execution_count": 12,
   "metadata": {
    "collapsed": true
   },
   "outputs": [],
   "source": [
    "def threshold_search(n,nrounds,hw,B_cap,B_bar,B_barlist,st0,st1,op,w1):\n",
    "    if(n == 0): \n",
    "        B_cap_temp[nrounds-1]=w1*B_cap[nrounds-1-(n+1)]\n",
    "        if(B_cap_temp[nrounds-1]>B_bar):\n",
    "            B_barlist[n]=w1\n",
    "            trail_cap[n]= NMTS(ROL(st1,alpha),st0,op,w1)\n",
    "            st1=op\n",
    "            st0=ROL(st0,beta)^st1\n",
    "            return threshold_search(n+1,nrounds,hw,B_cap,B_bar,B_barlist,st0,st1,op,w1)\n",
    "        else:\n",
    "            return B_bar,B_cap \n",
    "            \n",
    "    if((n > 0) & (n != (nrounds - 1))):\n",
    "        #print(n)\n",
    "        st1=ROR(st1,alpha)\n",
    "        p_min=p_minimum(n,trail_cap,B_cap,B_bar)\n",
    "        croad=[]\n",
    "        #function that check output is in highway and weight is greater than p_min or not, if it is update croad\n",
    "        maxddt,ddt,max_p=[],[],0\n",
    "        ck,ddt,maxddt=PDDT(SPECK_TYPE,0.1,0,1,st1,st0,0,p_min,maxddt,ddt,1)\n",
    "        if(ck==1):\n",
    "            for i in range(0,len(maxddt)):\n",
    "                croad.append(NMTS(maxddt[i].dx,maxddt[i].dy,maxddt[i].dz,maxddt[i].wt))\n",
    "        del maxddt[:]            \n",
    "        #opcheck_in_highways(0,p_min,st1,st0)\n",
    "        #if croad is still empty then fill it with max probility value for other outputs except highway\n",
    "        if(len(croad) == 0):\n",
    "            maxop=st1^st0\n",
    "            maxwt=weight(st1,st0,maxop)\n",
    "            if(maxwt!= -200):\n",
    "                croad.append(NMTS(st1,st0,maxop,maxwt))\n",
    "            else:\n",
    "                return B_bar,B_cap\n",
    "    \n",
    "        crhw = []\n",
    "        temphw=[]\n",
    "        maxddt,ddt,max_p=[],[],0\n",
    "        ck,ddt,maxddt=PDDT(SPECK_TYPE,0.1,0,1,st1,st0,0,max_p,maxddt,ddt,1)\n",
    "        #val1,val2,val3,w,chk= searchinhighway(st1,st0)\n",
    "        if(ck==1):\n",
    "            for i in range(0,len(ddt)):\n",
    "                crhw.append(NMTS(ddt[i].dx,ddt[i].dy,ddt[i].dz,ddt[i].wt))\n",
    "        \n",
    "        for i in range(0,len(croad)):\n",
    "            crhw.append(NMTS(croad[i].dx,croad[i].dy,croad[i].dz,croad[i].wt))\n",
    "   \n",
    "        p_r=1\n",
    "        for i in range(0,n):\n",
    "            p_r *= trail_cap[i].wt\n",
    "        for i in range(0,len(crhw)):\n",
    "            B_cap_temp[nrounds-1]= p_r * crhw[i].wt * B_cap[nrounds - 1 - (n + 1)]\n",
    "            #print(B_cap_temp[nrounds-1],B_bar)\n",
    "            if(B_cap_temp[nrounds-1]>B_bar):\n",
    "                B_barlist[n]=p_r * crhw[i].wt\n",
    "                trail_cap[n]=NMTS(ROL(crhw[i].dx,alpha),crhw[i].dy,crhw[i].dz,crhw[i].wt)\n",
    "                st1=crhw[i].dz\n",
    "                st0=ROL(st0,beta)^st1\n",
    "                return threshold_search(n+1,nrounds,hw,B_cap,B_bar,B_barlist,st0,st1,op,w1)\n",
    "            else:\n",
    "                return B_bar,B_cap\n",
    "        \n",
    "                    \n",
    "    if(n ==(nrounds - 1)):\n",
    "        st1=ROR(st1,alpha)\n",
    "        #print(n)\n",
    "        #max_p,output,ck=max(0,st1,st0)\n",
    "        maxop=st1^st0\n",
    "        maxwt=weight(st1,st0,maxop)\n",
    "        if(maxwt>0):\n",
    "            p=maxwt\n",
    "            op=maxop\n",
    "            if(p>=0.1):\n",
    "                hw.append(NMTS(st1,st0,op,p))       \n",
    "        if(maxwt==-200):\n",
    "            return B_bar,B_cap             \n",
    "        p_r=1\n",
    "        for i in range(0,n):\n",
    "            p_r *= trail_cap[i].wt\n",
    "        B_cap_temp[nrounds-1]=p * p_r\n",
    "        #print(B_cap_temp[nrounds-1],B_bar)\n",
    "        if(B_cap_temp[nrounds-1]>B_bar):\n",
    "            B_barlist[n]=B_cap_temp[nrounds-1]\n",
    "            #print (\"%.16f %.16f\" % (B_cap_temp[n],B_bar))\n",
    "            trail_cap[n]=NMTS(ROL(st1,alpha),st0,op,p)\n",
    "            B_bar=B_cap_temp[nrounds-1]\n",
    "            for i in range(0,len(B_cap)):\n",
    "                B_cap[i]=B_barlist[i]\n",
    "                B_bar=B_cap_temp[n]  \n",
    "            for i in range(0,len(trail_cap)):\n",
    "                print(trail_cap[i].dx,trail_cap[i].dy,trail_cap[i].dz,trail_cap[i].wt)\n",
    "            return B_bar,B_cap\n",
    "        else:\n",
    "            return B_bar,B_cap\n",
    "    "
   ]
  },
  {
   "cell_type": "code",
   "execution_count": 13,
   "metadata": {},
   "outputs": [
    {
     "name": "stdout",
     "output_type": "stream",
     "text": [
      "0.000000000000000000000000000000\n",
      "3864902 7979106 1205831 4.76837158203125e-07\n",
      "1205831 14443860 69906 7.62939453125e-06\n",
      "69906 14826420 1050757 6.103515625e-05\n",
      "1050757 120098 8668458 0.0009765625\n",
      "8668458 9104442 10493953 3.0517578125e-05\n",
      "10493953 16204245 1056789 1.52587890625e-05\n",
      "1056789 11153082 8454794 1.52587890625e-05\n",
      "8454794 13662047 4853825 7.62939453125e-06\n",
      "4853825 13216447 532609 3.0517578125e-05\n",
      "532609 4552063 4457729 1.52587890625e-05\n",
      "\n",
      "5.473822126268817e-48\n",
      "16074243 8675132 8562278 3.0517578125e-05\n",
      "8562278 10510210 147488 3.0517578125e-05\n",
      "147488 48181 2130453 0.000244140625\n",
      "2130453 2450365 1048577 3.0517578125e-05\n",
      "1048577 3874280 525352 0.0001220703125\n",
      "525352 13691753 532773 3.0517578125e-05\n",
      "532773 9402987 10486280 3.0517578125e-05\n",
      "10486280 14405972 4198738 6.103515625e-05\n",
      "4198738 10394612 4212741 7.62939453125e-06\n",
      "4212741 11835297 9457705 3.0517578125e-05\n",
      "\n",
      "1.1210387714598537e-44\n",
      "14890953 15562685 15168388 0.0001220703125\n",
      "15168388 9227883 8456 3.0517578125e-05\n",
      "8456 6705748 2249237 0.0001220703125\n",
      "2249237 1097910 270848 0.0001220703125\n",
      "270848 8529840 8528018 0.001953125\n",
      "8528018 9641238 33042 0.0001220703125\n",
      "33042 9988518 9054241 0.000244140625\n",
      "9054241 4810005 2629893 1.52587890625e-05\n",
      "2629893 6490543 2105472 6.103515625e-05\n",
      "2105472 3698171 8913929 3.0517578125e-05\n",
      "\n",
      "9.183549615799121e-41\n",
      "9035999 12391222 6129714 0.0001220703125\n",
      "6129714 11866503 8471553 3.0517578125e-05\n",
      "8471553 2738236 2640128 0.000244140625\n",
      "2640128 6686945 2236456 0.00048828125\n",
      "2236456 1206051 655617 0.000244140625\n",
      "655617 10041369 8913416 0.0009765625\n",
      "8913416 4309700 4737602 0.00048828125\n",
      "4737602 4611168 1066 0.00048828125\n",
      "1066 3335976 532772 0.0001220703125\n",
      "532772 10426469 8454148 0.000244140625\n",
      "\n",
      "7.52316384526264e-37\n",
      "7.52316384526264e-37\n"
     ]
    }
   ],
   "source": [
    "import random\n",
    "import math \n",
    "#alpha beta are for left and right circular shift     \n",
    "alpha, beta = 8,3\n",
    "#speck total number of round epresented by nrounds\n",
    "nrounds,n,s=10,0,0\n",
    "SPECK_TYPE=24\n",
    "mask,wshift = 2 ** 24 - 1, 23\n",
    "#B_cap=[0.00048,0.00048,0.0625,0.00048,0.00048,0.00048,0.00048,0.00048,0.00048]\n",
    "B_cap,B_bar=[2**(-50),2**(-100),2**(-150),2**(-200),2**(-250),2**(-300),2**(-350),2**(-400),2**(-450),2**(-500)],2 ** (-500)\n",
    "B_barlist=[0]*nrounds\n",
    "#B_cap,B_bar=[2**(-11),2**(-22),2**(-33),2**(-38)],2 ** (-38)\n",
    "trail_cap,trail_bar=[0]*nrounds, [0]*nrounds\n",
    "croad,hw,B_cap_temp=[],[],[0]*nrounds\n",
    "#st0=0xA60\n",
    "#st1=0x4205\n",
    "#hlen=1567132\n",
    "max_p,output=0,0\n",
    "maxddt,ddt,max_p=[],[],0\n",
    "print (\"%.30f\" % B_bar)\n",
    "class NMTS(object):\n",
    "    \"\"\"__init__() functions as the class constructor\"\"\"\n",
    "    def __init__(self, dx=None, dy=None, dz=None, wt=None):\n",
    "        self.dx = dx\n",
    "        self.dy = dy\n",
    "        self.dz = dz\n",
    "        self.wt = wt\n",
    "        \n",
    "highwaylist()\n",
    "for ch in range(1,len(hw)):\n",
    "    st0=(random.randint(1,mask))\n",
    "    st1=(random.randint(1,mask))\n",
    "    op=(random.randint(1,mask))\n",
    "    wt=weight(st0,st1,op)\n",
    "    if(wt>0):\n",
    "        #print(n,nrounds,B_bar,hw[ch].dx,hw[ch].dy,hw[ch].dz,hw[ch].wt)\n",
    "        B_bar,B_cap =threshold_search(n,nrounds,hw,B_cap,B_bar,B_barlist,st0,st1,op,wt)\n",
    "print(B_bar)"
   ]
  },
  {
   "cell_type": "code",
   "execution_count": null,
   "metadata": {
    "collapsed": true
   },
   "outputs": [],
   "source": []
  }
 ],
 "metadata": {
  "kernelspec": {
   "display_name": "Python 3",
   "language": "python",
   "name": "python3"
  },
  "language_info": {
   "codemirror_mode": {
    "name": "ipython",
    "version": 3
   },
   "file_extension": ".py",
   "mimetype": "text/x-python",
   "name": "python",
   "nbconvert_exporter": "python",
   "pygments_lexer": "ipython3",
   "version": "3.6.1"
  }
 },
 "nbformat": 4,
 "nbformat_minor": 2
}
