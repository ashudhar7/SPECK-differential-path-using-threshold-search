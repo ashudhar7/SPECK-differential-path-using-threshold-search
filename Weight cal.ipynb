{
 "cells": [
  {
   "cell_type": "code",
   "execution_count": 16,
   "metadata": {
    "collapsed": true
   },
   "outputs": [],
   "source": [
    "#right circular shifts\n",
    "def ROR(x,r):\n",
    "    x = ((x << (SPECK_TYPE - r)) + (x >> r)) & mask\n",
    "    return x\n",
    "\n",
    "#left circular shifts\n",
    "def ROL(x,r):\n",
    "    x = ((x >> (SPECK_TYPE - r)) + (x << r)) & mask\n",
    "    return x"
   ]
  },
  {
   "cell_type": "code",
   "execution_count": 20,
   "metadata": {},
   "outputs": [
    {
     "name": "stdout",
     "output_type": "stream",
     "text": [
      "33192\n"
     ]
    }
   ],
   "source": [
    "SPECK_TYPE=16\n",
    "mask=2**16 -1\n",
    "st0=32810\n",
    "st1=33026\n",
    "print(ROL(st0,2)^st1)"
   ]
  },
  {
   "cell_type": "code",
   "execution_count": 1,
   "metadata": {
    "collapsed": true
   },
   "outputs": [],
   "source": [
    "import math\n",
    "def weight1(alpha1,beta1,gamma1):  \n",
    "    x1= (alpha1 << 1)& mask\n",
    "    y1= (beta1  << 1)& mask\n",
    "    z1= (gamma1  << 1)& mask\n",
    "    not_x=(x1^mask)\n",
    "    eq=((not_x)^y1)&(not_x^z1)\n",
    "    s=eq&(alpha1^beta1^gamma1^(y1))\n",
    "    if(s==0):        \n",
    "        h=bin((~eq)& mask)\n",
    "        wt=(h[1:].count(\"1\"))\n",
    "        return math.pow(2,-wt)\n",
    "    else:\n",
    "        return 0"
   ]
  },
  {
   "cell_type": "code",
   "execution_count": 15,
   "metadata": {},
   "outputs": [
    {
     "data": {
      "text/plain": [
       "1.4901161193847656e-08"
      ]
     },
     "execution_count": 15,
     "metadata": {},
     "output_type": "execute_result"
    }
   ],
   "source": [
    "weight1(2454659917, 1171289346, 2116096065)"
   ]
  },
  {
   "cell_type": "code",
   "execution_count": 4,
   "metadata": {},
   "outputs": [
    {
     "name": "stdout",
     "output_type": "stream",
     "text": [
      "75497600 2214625312 1 0.125\n",
      "75497600 2214625312 3 0.125\n",
      "75497600 2214625312 5 0.125\n",
      "75497600 2214625312 7 0.125\n",
      "75497600 2214625312 9 0.0625\n",
      "75497600 2214625312 11 0.0625\n",
      "75497600 2214625312 13 0.0625\n",
      "75497600 2214625312 15 0.0625\n",
      "75497600 2214625312 25 0.03125\n",
      "75497600 2214625312 27 0.03125\n",
      "75497600 2214625312 29 0.03125\n",
      "75497600 2214625312 31 0.03125\n",
      "75497600 2214625312 57 0.015625\n",
      "75497600 2214625312 59 0.015625\n",
      "75497600 2214625312 61 0.015625\n",
      "75497600 2214625312 63 0.015625\n",
      "75497600 2214625312 121 0.0078125\n",
      "75497600 2214625312 123 0.0078125\n",
      "75497600 2214625312 125 0.0078125\n",
      "75497600 2214625312 127 0.0078125\n",
      "75497600 2214625312 249 0.0078125\n",
      "75497600 2214625312 251 0.0078125\n",
      "75497600 2214625312 253 0.0078125\n",
      "75497600 2214625312 255 0.0078125\n",
      "24\n"
     ]
    }
   ],
   "source": [
    "mask=2**8 -1\n",
    "c=0\n",
    "for i in range(0,mask+1):\n",
    "    wt=weight1(7,0,i)\n",
    "    if(wt>0):\n",
    "        c=c+1\n",
    "        print(75497600, 2214625312,i,wt)\n",
    "print(c)"
   ]
  },
  {
   "cell_type": "code",
   "execution_count": null,
   "metadata": {
    "collapsed": true
   },
   "outputs": [],
   "source": []
  }
 ],
 "metadata": {
  "kernelspec": {
   "display_name": "Python 3",
   "language": "python",
   "name": "python3"
  },
  "language_info": {
   "codemirror_mode": {
    "name": "ipython",
    "version": 3
   },
   "file_extension": ".py",
   "mimetype": "text/x-python",
   "name": "python",
   "nbconvert_exporter": "python",
   "pygments_lexer": "ipython3",
   "version": "3.6.1"
  }
 },
 "nbformat": 4,
 "nbformat_minor": 2
}
