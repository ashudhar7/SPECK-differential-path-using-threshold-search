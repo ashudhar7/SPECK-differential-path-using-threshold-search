{
 "cells": [
  {
   "cell_type": "code",
   "execution_count": 3,
   "metadata": {},
   "outputs": [
    {
     "name": "stdout",
     "output_type": "stream",
     "text": [
      "24\n"
     ]
    }
   ],
   "source": [
    "import random\n",
    "import math\n",
    "def weight(alpha1,beta1,gamma1):  \n",
    "    x1= (alpha1 << 1)& mask\n",
    "    y1= (beta1  << 1)& mask\n",
    "    z1= (gamma1  << 1)& mask\n",
    "    not_x=(x1^mask)\n",
    "    eq=((not_x)^y1)&(not_x^z1)\n",
    "    s=eq&(alpha1^beta1^gamma1^(y1))\n",
    "    if(s==0):        \n",
    "        h=bin((~eq)& mask)\n",
    "        wt=(h[1:].count(\"1\"))\n",
    "        return math.pow(2,-wt)\n",
    "    else:\n",
    "        return -200\n",
    "    \n",
    "def store(da,db,dc,wt):\n",
    "    alpha.append(da)\n",
    "    beta.append(db)\n",
    "    gamma.append(dc)\n",
    "    prob.append(wt) \n",
    "    #print(len(alpha))\n",
    "    return da,db,dc\n",
    "\n",
    "def PDDT(n,p_thres,k,wt,da,db,dc,c):\n",
    "    if(n==k):\n",
    "        #print(da,db,dc,wt)\n",
    "        store(da,db,dc,wt)\n",
    "        return \n",
    "    \n",
    "    for z in range(0,2):\n",
    "        new_da= (da & ((2 ** c) - 1))\n",
    "        new_db= (db & ((2 ** c) - 1))\n",
    "        new_dc= (dc | (z<<k) & mask)\n",
    "        wt= weight(new_da,new_db,new_dc)\n",
    "        if(wt >= p_thres or ((z==1) and (k+1)!=n)): \n",
    "            PDDT(n,p_thres,k+1,wt,da,db,new_dc,c+1)\n",
    "c=1    \n",
    "mask = 2 ** 8 - 1\n",
    "alpha,beta,gamma,prob=[],[],[],[]\n",
    "PDDT(8,0,0,0,7,0,0,c)\n",
    "#for i in range(len(prob)):\n",
    "      #print (alpha[i],beta[i],gamma[i],prob[i])\n",
    "print(len(alpha))\n"
   ]
  },
  {
   "cell_type": "code",
   "execution_count": null,
   "metadata": {
    "collapsed": true
   },
   "outputs": [],
   "source": []
  }
 ],
 "metadata": {
  "kernelspec": {
   "display_name": "Python 3",
   "language": "python",
   "name": "python3"
  },
  "language_info": {
   "codemirror_mode": {
    "name": "ipython",
    "version": 3
   },
   "file_extension": ".py",
   "mimetype": "text/x-python",
   "name": "python",
   "nbconvert_exporter": "python",
   "pygments_lexer": "ipython3",
   "version": "3.6.1"
  }
 },
 "nbformat": 4,
 "nbformat_minor": 2
}
