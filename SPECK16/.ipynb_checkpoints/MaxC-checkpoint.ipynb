{
 "cells": [
  {
   "cell_type": "code",
   "execution_count": 140,
   "metadata": {
    "collapsed": true
   },
   "outputs": [],
   "source": [
    "def weight(alpha1,beta1,gamma1):  \n",
    "    x1= (alpha1 << 1)& mask\n",
    "    y1= (beta1  << 1)& mask\n",
    "    z1= (gamma1  << 1)& mask\n",
    "    not_x=(x1^mask)\n",
    "    eq=((not_x)^y1)&(not_x^z1)\n",
    "    s=eq&(alpha1^beta1^gamma1^(y1))\n",
    "    if(s==0):        \n",
    "        h=bin((~eq)& mask)\n",
    "        wt=(h[1:].count(\"1\"))\n",
    "        return math.pow(2,-wt)\n",
    "    else:\n",
    "        return -200"
   ]
  },
  {
   "cell_type": "code",
   "execution_count": 145,
   "metadata": {
    "collapsed": true
   },
   "outputs": [],
   "source": [
    "import random\n",
    "import math\n",
    "\n",
    "def store(da,db,dc,wt):\n",
    "    print(da,db,dc,wt)      \n",
    "    return da,db,dc \n",
    "\n",
    "def max(n,p_thres,k,wt,da,db,dc):\n",
    "    if(n==k):\n",
    "        store(da,db,dc,wt)\n",
    "        return da,db,dc\n",
    "    \n",
    "    for z in range(0,mask):\n",
    "        new_da= da\n",
    "        new_db= db\n",
    "        new_dc= z\n",
    "        wt= weight(new_da,new_db,new_dc)\n",
    "        if(wt >= p_thres):\n",
    "            max(n,p_thres,k+1,wt,new_da,new_db,new_dc)\n",
    "    "
   ]
  },
  {
   "cell_type": "code",
   "execution_count": 146,
   "metadata": {},
   "outputs": [
    {
     "name": "stdout",
     "output_type": "stream",
     "text": [
      "32768 0 32768 1.0\n"
     ]
    }
   ],
   "source": [
    "mask = 2 ** 16 - 1\n",
    "alpha,beta,gamma,prob=[],[],[],[]\n",
    "max(16,0.1,0,0,32768,0,0)\n",
    "#print(c)"
   ]
  },
  {
   "cell_type": "code",
   "execution_count": null,
   "metadata": {
    "collapsed": true
   },
   "outputs": [],
   "source": []
  },
  {
   "cell_type": "code",
   "execution_count": null,
   "metadata": {
    "collapsed": true
   },
   "outputs": [],
   "source": []
  }
 ],
 "metadata": {
  "kernelspec": {
   "display_name": "Python 3",
   "language": "python",
   "name": "python3"
  },
  "language_info": {
   "codemirror_mode": {
    "name": "ipython",
    "version": 3
   },
   "file_extension": ".py",
   "mimetype": "text/x-python",
   "name": "python",
   "nbconvert_exporter": "python",
   "pygments_lexer": "ipython3",
   "version": "3.6.1"
  }
 },
 "nbformat": 4,
 "nbformat_minor": 2
}
