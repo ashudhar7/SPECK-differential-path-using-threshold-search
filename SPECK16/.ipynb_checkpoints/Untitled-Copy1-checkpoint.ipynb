{
 "cells": [
  {
   "cell_type": "code",
   "execution_count": 14,
   "metadata": {
    "collapsed": true
   },
   "outputs": [],
   "source": [
    "def p_minimum(n,trail_cap,B_cap,B_bar):\n",
    "        p_min = 1.0;\n",
    "        for i in range(0,n-1):\n",
    "            p_min *= trail_cap[i].wt\n",
    "        p_min = p_min * B_cap[n+1]; \n",
    "        p_min = B_bar/p_min \n",
    "        return p_min"
   ]
  },
  {
   "cell_type": "code",
   "execution_count": null,
   "metadata": {
    "collapsed": true
   },
   "outputs": [],
   "source": [
    "def searchinhighway(val1,val2):\n",
    "    for i in range(0,len(hw)):\n",
    "        if((hw[i].dx == 'val1') and (hw[i].dy == 'val2')):\n",
    "            val1,val2,val3,w = hw[i].dx,hw[i].dy,hw[i].dz,hw[i].wt\n",
    "            chk=1\n",
    "            return val1,val2,val3,w,chk\n",
    "            break\n",
    "    return 0,0,0,0,0"
   ]
  },
  {
   "cell_type": "code",
   "execution_count": 15,
   "metadata": {
    "collapsed": true
   },
   "outputs": [],
   "source": [
    "def highwaylist():\n",
    "    alph,bet,gam,pro = [],[],[],[]\n",
    "    with open('alph.txt') as ip1, open('bet.txt') as ip2, open('gam.txt') as ip3, open('pro.txt') as ip4:\n",
    "        for i1,i2,i3,i4 in zip(ip1,ip2,ip3,ip4):\n",
    "            hw.append(NMTS(i1.strip(),i2.strip(),i3.strip(),i4.strip()))"
   ]
  },
  {
   "cell_type": "code",
   "execution_count": 16,
   "metadata": {
    "collapsed": true
   },
   "outputs": [],
   "source": [
    "def weight(alpha1,beta1,gamma1): \n",
    "    if(alpha1==0 and beta1==0 and gamma1==0):\n",
    "        return -200\n",
    "    x1= (alpha1 << 1)& mask\n",
    "    y1= (beta1  << 1)& mask\n",
    "    z1= (gamma1  << 1)& mask\n",
    "    not_x=(x1^mask)\n",
    "    eq=((not_x)^y1)&(not_x^z1)\n",
    "    s=eq&(alpha1^beta1^gamma1^(y1))\n",
    "    if(s==0):        \n",
    "        h=bin((~eq)& mask)\n",
    "        wt=(h[1:].count(\"1\"))\n",
    "        return math.pow(2,-wt)\n",
    "    else:\n",
    "        return -200"
   ]
  },
  {
   "cell_type": "code",
   "execution_count": null,
   "metadata": {
    "collapsed": true
   },
   "outputs": [],
   "source": [
    "import random\n",
    "import math\n",
    "max_p=0 \n",
    "def store(da,db,dc,wt):\n",
    "    val1,val2,val3,w,chk= searchinhighway(ROL(da,beta)^dc,dc)\n",
    "    if(chk==1):\n",
    "        if(w>=p_min):\n",
    "            croad.append(NMTS(val1,val2,val3,w))      \n",
    "    return \n",
    "\n",
    "def maxh(n,p_thres,k,wt,da,db,dc,p_min):\n",
    "    if(n==k):\n",
    "        store(da,db,dc,wt)\n",
    "        return \n",
    "    for z in range(0,2):\n",
    "        new_da= da\n",
    "        new_db= db\n",
    "        new_dc= (dc | (z<<k) & mask)\n",
    "        wt= weight(new_da,new_db,new_dc)\n",
    "        if(wt >= p_thres or (z==1) and (k+1)!=n):                    \n",
    "            maxh(n,p_thres,k+1,wt,new_da,new_db,new_dc,p_min)"
   ]
  },
  {
   "cell_type": "code",
   "execution_count": 9,
   "metadata": {
    "collapsed": true
   },
   "outputs": [],
   "source": [
    "import random\n",
    "import math\n",
    "max_p=0 \n",
    "def store(da,db,dc,wt):\n",
    "    global max_p,output,ck\n",
    "    if(wt>max_p):\n",
    "        max_p=wt\n",
    "        output=dc\n",
    "        ck=1\n",
    "    return \n",
    "\n",
    "def max(n,p_thres,k,wt,da,db,dc):\n",
    "    if(n==k):\n",
    "        store(da,db,dc,wt)\n",
    "        return \n",
    "    for z in range(0,2):\n",
    "        new_da= da\n",
    "        new_db= db\n",
    "        new_dc= (dc | (z<<k) & mask)\n",
    "        wt= weight(new_da,new_db,new_dc)\n",
    "        if(wt >= p_thres or (z==1) and (k+1)!=n):                    \n",
    "            max(n,p_thres,k+1,wt,new_da,new_db,new_dc)\n",
    "          "
   ]
  },
  {
   "cell_type": "code",
   "execution_count": 10,
   "metadata": {
    "collapsed": true
   },
   "outputs": [],
   "source": [
    "#right circular shifts\n",
    "def ROR(x,r):\n",
    "    x = ((x << (SPECK_TYPE - r)) + (x >> r)) & mask\n",
    "    return x\n",
    "\n",
    "#left circular shifts\n",
    "def ROL(x,r):\n",
    "    x = ((x >> (SPECK_TYPE - r)) + (x << r)) & mask\n",
    "    return x"
   ]
  },
  {
   "cell_type": "code",
   "execution_count": 17,
   "metadata": {
    "collapsed": true
   },
   "outputs": [],
   "source": [
    "def threshold_search(n,nrounds,hw,B_cap,B_bar,st0,st1):\n",
    "    lp=1\n",
    "    if(n == 0): \n",
    "        for ch in range(0,len(hw)):\n",
    "            B_cap_temp=hw[ch].wt*B_cap[1]\n",
    "            if(B_cap_temp<B_bar):\n",
    "                trail_cap[n]= NMTS(ROL(hw[ch].dy,alpha),hw[ch].dx,hw[ch].dz,hw[ch].wt)\n",
    "                st1=gam[ch],st0=ROL(st0,beta)^st1\n",
    "                threshold_search(n+1,nrounds,alph,bet,gam,B_cap,B_bar,st0,st1)\n",
    "    \n",
    "    \n",
    "    if((n > 0) & (n != (nrounds - 1))):\n",
    "        croad=[]\n",
    "        st1=ROR(st1,alpha)\n",
    "        p_min=p_minimum(n,trail_cap,B_cap,B_bar)\n",
    "        maxh(16,0,0,wt,st0,st1,0,p_min)\n",
    "    \n",
    "        max_p=0\n",
    "        if(len(croad) == 0):\n",
    "            max(16,0,0,1,st0,st1,0)\n",
    "            croad.append(NMTS(st0,st1,op,max_p))\n",
    "                        \n",
    "        p_r=1\n",
    "        for i in range(0,n-1):\n",
    "            p_r *= trail_cap[i].wt\n",
    "           \n",
    "        val1,val2,val3,w,chk= searchinhighway(st0,st1)\n",
    "        if(chk==1):\n",
    "            B_cap_temp= p_r * w * B_cap[n+1]\n",
    "            if(B_cap_temp>B_bar):\n",
    "                trail_cap[n]=NMTS(ROL(val1,alpha),val2,val3,w)\n",
    "                st1=val3\n",
    "                st0=ROL(st0,beta)^st1\n",
    "                threshold_search(n+1,nrounds,alph,bet,gam,B_cap,B_bar,st0,st1)  \n",
    "                  \n",
    "        B_cap_temp= p_r * w * B_cap[n+1]           \n",
    "        for ch in range(0,len(croad)):\n",
    "            if(B_cap_temp>B_bar):\n",
    "                    B_cap[n]=croad[ch].wt + B_cap[n+1]\n",
    "                    trail_cap[n]=NMTS(croad[ch].dx,croad[ch].dy,croad[ch].dz ,croad[ch].wt)\n",
    "                    st1=gam[ch]\n",
    "                    st0=ROL(st0,beta)^st1\n",
    "                    threshold_search(n+1,nrounds,alph,bet,gam,B_cap,B_bar,st0,st1)\n",
    "     \n",
    "    if(n ==(nrounds - 1)):\n",
    "        max_p,ck=0,0\n",
    "        max(16,0.1,0,1,st0,st1,0)\n",
    "        if(ck==1):\n",
    "            p=max_p\n",
    "            op=output\n",
    "        if(ck==0):\n",
    "            max(16,0,0,1,st0,st1,0)\n",
    "            p=max_p\n",
    "            op=output\n",
    "                \n",
    "        p_r=1\n",
    "        for i in range(0,n-1):\n",
    "            p_r *= trail_cap[i].wt\n",
    "        B_cap_temp=max_p + p_r\n",
    "        if(B_cap_temp>B_bar):\n",
    "            B_cap[n]=p\n",
    "            trail_cap[n]=NMTS(st0,st1,op,max_p)\n",
    "    B_bar=B_cap[0]\n",
    "    #print(len(trail_bar))   \n",
    "    #for ch1 in range(0,len(trail_cap)):\n",
    "        #print(trail_cap[ch1].dx,trail_cap[ch1].dy,trail_cap[ch1].dz,trail_cap[ch1].wt)\n",
    "    print(B_cap)\n",
    "    return B_bar, trail_bar "
   ]
  },
  {
   "cell_type": "code",
   "execution_count": 18,
   "metadata": {},
   "outputs": [
    {
     "ename": "TypeError",
     "evalue": "can't multiply sequence by non-int of type 'float'",
     "output_type": "error",
     "traceback": [
      "\u001b[0;31m---------------------------------------------------------------------------\u001b[0m",
      "\u001b[0;31mTypeError\u001b[0m                                 Traceback (most recent call last)",
      "\u001b[0;32m<ipython-input-18-0e2d078fdeb3>\u001b[0m in \u001b[0;36m<module>\u001b[0;34m()\u001b[0m\n\u001b[1;32m     23\u001b[0m \u001b[0;34m\u001b[0m\u001b[0m\n\u001b[1;32m     24\u001b[0m \u001b[0mhighwaylist\u001b[0m\u001b[0;34m(\u001b[0m\u001b[0;34m)\u001b[0m\u001b[0;34m\u001b[0m\u001b[0m\n\u001b[0;32m---> 25\u001b[0;31m \u001b[0mB_bar\u001b[0m\u001b[0;34m,\u001b[0m \u001b[0mtrail_bar\u001b[0m \u001b[0;34m=\u001b[0m\u001b[0mthreshold_search\u001b[0m\u001b[0;34m(\u001b[0m\u001b[0mn\u001b[0m\u001b[0;34m,\u001b[0m\u001b[0mnrounds\u001b[0m\u001b[0;34m,\u001b[0m\u001b[0mhw\u001b[0m\u001b[0;34m,\u001b[0m\u001b[0mB_cap\u001b[0m\u001b[0;34m,\u001b[0m\u001b[0mB_bar\u001b[0m\u001b[0;34m,\u001b[0m\u001b[0mst0\u001b[0m\u001b[0;34m,\u001b[0m\u001b[0mst1\u001b[0m\u001b[0;34m)\u001b[0m\u001b[0;34m\u001b[0m\u001b[0m\n\u001b[0m\u001b[1;32m     26\u001b[0m \u001b[0mprint\u001b[0m\u001b[0;34m(\u001b[0m\u001b[0mB_bar\u001b[0m\u001b[0;34m)\u001b[0m\u001b[0;34m\u001b[0m\u001b[0m\n",
      "\u001b[0;32m<ipython-input-17-c4758e0dd84d>\u001b[0m in \u001b[0;36mthreshold_search\u001b[0;34m(n, nrounds, hw, B_cap, B_bar, st0, st1)\u001b[0m\n\u001b[1;32m      3\u001b[0m     \u001b[0;32mif\u001b[0m\u001b[0;34m(\u001b[0m\u001b[0mn\u001b[0m \u001b[0;34m==\u001b[0m \u001b[0;36m0\u001b[0m\u001b[0;34m)\u001b[0m\u001b[0;34m:\u001b[0m\u001b[0;34m\u001b[0m\u001b[0m\n\u001b[1;32m      4\u001b[0m         \u001b[0;32mfor\u001b[0m \u001b[0mch\u001b[0m \u001b[0;32min\u001b[0m \u001b[0mrange\u001b[0m\u001b[0;34m(\u001b[0m\u001b[0;36m0\u001b[0m\u001b[0;34m,\u001b[0m\u001b[0mlen\u001b[0m\u001b[0;34m(\u001b[0m\u001b[0mhw\u001b[0m\u001b[0;34m)\u001b[0m\u001b[0;34m)\u001b[0m\u001b[0;34m:\u001b[0m\u001b[0;34m\u001b[0m\u001b[0m\n\u001b[0;32m----> 5\u001b[0;31m             \u001b[0mB_cap_temp\u001b[0m\u001b[0;34m=\u001b[0m\u001b[0mhw\u001b[0m\u001b[0;34m[\u001b[0m\u001b[0mch\u001b[0m\u001b[0;34m]\u001b[0m\u001b[0;34m.\u001b[0m\u001b[0mwt\u001b[0m\u001b[0;34m*\u001b[0m\u001b[0mB_cap\u001b[0m\u001b[0;34m[\u001b[0m\u001b[0;36m1\u001b[0m\u001b[0;34m]\u001b[0m\u001b[0;34m\u001b[0m\u001b[0m\n\u001b[0m\u001b[1;32m      6\u001b[0m             \u001b[0;32mif\u001b[0m\u001b[0;34m(\u001b[0m\u001b[0mB_cap_temp\u001b[0m\u001b[0;34m<\u001b[0m\u001b[0mB_bar\u001b[0m\u001b[0;34m)\u001b[0m\u001b[0;34m:\u001b[0m\u001b[0;34m\u001b[0m\u001b[0m\n\u001b[1;32m      7\u001b[0m                 \u001b[0mtrail_cap\u001b[0m\u001b[0;34m[\u001b[0m\u001b[0mn\u001b[0m\u001b[0;34m]\u001b[0m\u001b[0;34m=\u001b[0m \u001b[0mNMTS\u001b[0m\u001b[0;34m(\u001b[0m\u001b[0mROL\u001b[0m\u001b[0;34m(\u001b[0m\u001b[0mhw\u001b[0m\u001b[0;34m[\u001b[0m\u001b[0mch\u001b[0m\u001b[0;34m]\u001b[0m\u001b[0;34m.\u001b[0m\u001b[0mdy\u001b[0m\u001b[0;34m,\u001b[0m\u001b[0malpha\u001b[0m\u001b[0;34m)\u001b[0m\u001b[0;34m,\u001b[0m\u001b[0mhw\u001b[0m\u001b[0;34m[\u001b[0m\u001b[0mch\u001b[0m\u001b[0;34m]\u001b[0m\u001b[0;34m.\u001b[0m\u001b[0mdx\u001b[0m\u001b[0;34m,\u001b[0m\u001b[0mhw\u001b[0m\u001b[0;34m[\u001b[0m\u001b[0mch\u001b[0m\u001b[0;34m]\u001b[0m\u001b[0;34m.\u001b[0m\u001b[0mdz\u001b[0m\u001b[0;34m,\u001b[0m\u001b[0mhw\u001b[0m\u001b[0;34m[\u001b[0m\u001b[0mch\u001b[0m\u001b[0;34m]\u001b[0m\u001b[0;34m.\u001b[0m\u001b[0mwt\u001b[0m\u001b[0;34m)\u001b[0m\u001b[0;34m\u001b[0m\u001b[0m\n",
      "\u001b[0;31mTypeError\u001b[0m: can't multiply sequence by non-int of type 'float'"
     ]
    }
   ],
   "source": [
    "#alpha beta are for left and right circular shift     \n",
    "alpha, beta = 7,2\n",
    "#speck total number of round epresented by nrounds\n",
    "nrounds,n,r=9,0,1 \n",
    "SPECK_TYPE=32\n",
    "mask,wshift = 2 ** 16 - 1, 15\n",
    "#B_cap=[0.00048,0.00048,0.0625,0.00048,0.00048,0.00048,0.00048,0.00048,0.00048]\n",
    "B_cap,B_bar=[2**(-91),2**(-80),2**(-69),2**(-64),2**(-53),2**(-42),2**(-31),2**(-20),2**(-9)],2 ** (-91)\n",
    "trail_cap,trail_bar=[0]*9, [0]*9\n",
    "croad,hw=[],[] \n",
    "st0=0\n",
    "st1=0\n",
    "hlen=408603\n",
    "max_p=0\n",
    "\n",
    "class NMTS(object):\n",
    "    \"\"\"__init__() functions as the class constructor\"\"\"\n",
    "    def __init__(self, dx=None, dy=None, dz=None, wt=None):\n",
    "        self.dx = dx\n",
    "        self.dy = dy\n",
    "        self.dz = dz\n",
    "        self.wt = wt\n",
    "        \n",
    "highwaylist()\n",
    "B_bar, trail_bar =threshold_search(n,nrounds,hw,B_cap,B_bar,st0,st1)\n",
    "print(B_bar)"
   ]
  },
  {
   "cell_type": "code",
   "execution_count": null,
   "metadata": {
    "collapsed": true
   },
   "outputs": [],
   "source": []
  },
  {
   "cell_type": "code",
   "execution_count": null,
   "metadata": {
    "collapsed": true
   },
   "outputs": [],
   "source": []
  }
 ],
 "metadata": {
  "kernelspec": {
   "display_name": "Python 3",
   "language": "python",
   "name": "python3"
  },
  "language_info": {
   "codemirror_mode": {
    "name": "ipython",
    "version": 3
   },
   "file_extension": ".py",
   "mimetype": "text/x-python",
   "name": "python",
   "nbconvert_exporter": "python",
   "pygments_lexer": "ipython3",
   "version": "3.6.1"
  }
 },
 "nbformat": 4,
 "nbformat_minor": 2
}
