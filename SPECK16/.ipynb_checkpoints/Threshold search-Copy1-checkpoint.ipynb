{
 "cells": [
  {
   "cell_type": "markdown",
   "metadata": {},
   "source": [
    "### function to calculate minimum probility p_min to check given condition"
   ]
  },
  {
   "cell_type": "code",
   "execution_count": 15,
   "metadata": {
    "collapsed": true
   },
   "outputs": [],
   "source": [
    "def p_minimum(n,trail_cap,B_cap,B_bar):\n",
    "        p_min = 1.0;\n",
    "        for i in range(0,n-1):\n",
    "            p_min *= trail_cap[i].wt\n",
    "        p_min = p_min * B_cap[nrounds - 1 - (n + 1)]; \n",
    "        p_min = B_bar/p_min \n",
    "        return p_min"
   ]
  },
  {
   "cell_type": "markdown",
   "metadata": {},
   "source": [
    "### function to check given inputs are available in highways path list or not "
   ]
  },
  {
   "cell_type": "code",
   "execution_count": 16,
   "metadata": {
    "collapsed": true
   },
   "outputs": [],
   "source": [
    "def searchinhighway(val1,val2):\n",
    "    c=(list(filter(lambda x: x.dx == val1 and x.dy == val2, hw)))\n",
    "    if(len(c)!=0):\n",
    "        return c[0].dx,c[0].dy,c[0].dz,c[0].wt,1\n",
    "    else:\n",
    "        return 0,0,0,0,0"
   ]
  },
  {
   "cell_type": "markdown",
   "metadata": {},
   "source": [
    "### function to import highways list into program and saving in \"hw\" list"
   ]
  },
  {
   "cell_type": "code",
   "execution_count": 17,
   "metadata": {
    "collapsed": true
   },
   "outputs": [],
   "source": [
    "def highwaylist():\n",
    "    alph,bet,gam,pro = [],[],[],[]\n",
    "    with open('alph.txt') as ip1, open('bet.txt') as ip2, open('gam.txt') as ip3, open('pro.txt') as ip4:\n",
    "        for i1,i2,i3,i4 in zip(ip1,ip2,ip3,ip4):\n",
    "            hw.append(NMTS(int(i1.strip()),int(i2.strip()),int(i3.strip()),float(i4.strip()))) \n",
    "            "
   ]
  },
  {
   "cell_type": "markdown",
   "metadata": {},
   "source": [
    "### function to calculate weight "
   ]
  },
  {
   "cell_type": "code",
   "execution_count": 18,
   "metadata": {
    "collapsed": true
   },
   "outputs": [],
   "source": [
    "def weight(alpha1,beta1,gamma1): \n",
    "    if(alpha1==0 and beta1==0 and gamma1==0):\n",
    "        return -200\n",
    "    x1= (alpha1 << 1)& mask\n",
    "    y1= (beta1  << 1)& mask\n",
    "    z1= (gamma1  << 1)& mask\n",
    "    not_x=(x1^mask)\n",
    "    eq=((not_x)^y1)&(not_x^z1)\n",
    "    s=eq&(alpha1^beta1^gamma1^(y1))\n",
    "    if(s==0):        \n",
    "        h=bin((~eq)& mask)\n",
    "        wt=(h[1:].count(\"1\"))\n",
    "        return math.pow(2,-wt)\n",
    "    else:\n",
    "        return -200"
   ]
  },
  {
   "cell_type": "code",
   "execution_count": 19,
   "metadata": {
    "collapsed": true
   },
   "outputs": [],
   "source": [
    "#weight(0, 673, 0)"
   ]
  },
  {
   "cell_type": "markdown",
   "metadata": {},
   "source": [
    "### function that takes two fixed inputs and for all possible outputs with weight greater than p_min it checks output is in highways or not "
   ]
  },
  {
   "cell_type": "code",
   "execution_count": 20,
   "metadata": {
    "collapsed": true
   },
   "outputs": [],
   "source": [
    "import random\n",
    "import math \n",
    "alpha, beta = 7,2\n",
    "def opcheck_in_highways(p_thres,p_min,da,db):\n",
    "    for z in range(0,mask):\n",
    "        wt= weight(da,db,z)\n",
    "        if(wt >= p_thres):\n",
    "            dc=z\n",
    "            if(wt>p_min):\n",
    "                x,y,z,w,chk=searchinhighway(ROL(da,beta)^dc,ROR(dc,alpha))\n",
    "                if(chk!=0):\n",
    "                    croad.append(NMTS(da,db,dc,wt))\n",
    "    return    "
   ]
  },
  {
   "cell_type": "code",
   "execution_count": 33,
   "metadata": {
    "collapsed": true
   },
   "outputs": [],
   "source": [
    "def opcheck_in_highways1(n,p_thres,k,wt,da,db,dc,p_min,maxddt,ddt,croad):\n",
    "    if(n==k):\n",
    "        if(wt>p_min):\n",
    "            ck,ddt,maxddt=PDDT(16,0.1,0,1,ROL(da,beta)^dc,ROR(dc,alpha),0,p_min,maxddt,ddt)\n",
    "            if(ck==1):\n",
    "                croad.append(NMTS(da,db,dc,wt))\n",
    "        return \n",
    "        \n",
    "    \n",
    "    for z in range(0,2):\n",
    "        new_dc= (dc | (z<<k) & mask)\n",
    "        wt= weight(da,db,new_dc)\n",
    "        if(wt >= p_thres or (k+1)!=n):                    \n",
    "            opcheck_in_highways1(n,p_thres,k+1,wt,da,db,new_dc,p_min,maxddt,ddt,croad) \n",
    "            \n",
    "    if(len(croad)==0):\n",
    "        return 0,croad\n",
    "    else:\n",
    "        return 1,croad"
   ]
  },
  {
   "cell_type": "markdown",
   "metadata": {},
   "source": [
    "### function that takes two input alpha and beta and for all output gamma its check the one output with max prob"
   ]
  },
  {
   "cell_type": "code",
   "execution_count": 22,
   "metadata": {
    "collapsed": true
   },
   "outputs": [],
   "source": [
    "import random\n",
    "import math \n",
    "\n",
    "def max(p_thres,da,db):\n",
    "    max_p,output,ck=0,0,0\n",
    "    for z in range(0,mask):\n",
    "        wt= weight(da,db,z)\n",
    "        if(wt >= p_thres):\n",
    "            dc=z\n",
    "            if(wt>=max_p):\n",
    "                max_p=wt\n",
    "                output=dc\n",
    "                ck=1\n",
    "                return max_p,output,ck\n",
    "    if(ck==0):\n",
    "        return max_p,output,ck\n",
    "        "
   ]
  },
  {
   "cell_type": "code",
   "execution_count": 23,
   "metadata": {
    "collapsed": true
   },
   "outputs": [],
   "source": [
    "#max_p,output,ck=max(9,256, 32768)\n",
    "#print(max_p,output,ck)"
   ]
  },
  {
   "cell_type": "code",
   "execution_count": 24,
   "metadata": {
    "collapsed": true
   },
   "outputs": [],
   "source": [
    "def PDDT(n,p_thres,k,wt,da,db,dc,s,maxddt,ddt):\n",
    "    if(n==k):\n",
    "        ddt.append(NMTS(da,db,dc,wt))\n",
    "        #print(da,db,dc,s)\n",
    "        if(wt>=s):\n",
    "            s=wt\n",
    "            maxddt[0]=NMTS(da,db,dc,s)\n",
    "            #print(maxddt[0].dx,maxddt[0].dy,maxddt[0].dz,maxddt[0].wt,s)\n",
    "        #print(da,db,dc,wt)\n",
    "        return \n",
    "    \n",
    "    for z in range(0,2):\n",
    "        new_dc= (dc | (z<<k) & mask)\n",
    "        wt= weight(da,db,new_dc)\n",
    "        if(wt >= p_thres or (k+1)!=n):                    \n",
    "            PDDT(n,p_thres,k+1,wt,da,db,new_dc,s,maxddt,ddt) \n",
    "            \n",
    "    if(len(ddt)==0):\n",
    "        return 0,ddt,maxddt\n",
    "    else:\n",
    "        return 1,ddt,maxddt\n",
    "   "
   ]
  },
  {
   "cell_type": "code",
   "execution_count": 25,
   "metadata": {
    "collapsed": true
   },
   "outputs": [],
   "source": [
    "#ck,ddt,maxddt=PDDT(16,0.1,0,1,256,33802,0,s)\n",
    "#print(ck)"
   ]
  },
  {
   "cell_type": "markdown",
   "metadata": {},
   "source": [
    "### function to perform left and right circular rotation "
   ]
  },
  {
   "cell_type": "code",
   "execution_count": 26,
   "metadata": {
    "collapsed": true
   },
   "outputs": [],
   "source": [
    "\n",
    "#right circular shifts\n",
    "def ROR(x,r):\n",
    "    x = ((x << (SPECK_TYPE - r)) + (x >> r)) & mask\n",
    "    return x\n",
    "\n",
    "#left circular shifts\n",
    "def ROL(x,r):\n",
    "    x = ((x >> (SPECK_TYPE - r)) + (x << r)) & mask\n",
    "    return x"
   ]
  },
  {
   "cell_type": "markdown",
   "metadata": {},
   "source": [
    "### main function for threshold search"
   ]
  },
  {
   "cell_type": "code",
   "execution_count": 34,
   "metadata": {
    "collapsed": true
   },
   "outputs": [],
   "source": [
    "def threshold_search(n,nrounds,hw,B_cap,B_bar,st0,st1,op,w1):\n",
    "    if(n == 0): \n",
    "        #print(n)\n",
    "        #print(\"loop\")\n",
    "        #print(st1,st0,op,w1)\n",
    "        B_cap_temp[n]=w1*B_cap[nrounds-1-(n+1)]\n",
    "        if(B_cap_temp[n]>B_bar):\n",
    "            trail_cap[n]= NMTS(ROL(st1,alpha),st0,op,w1)\n",
    "            st1=op\n",
    "            st0=ROL(st0,beta)^st1\n",
    "            return threshold_search(n+1,nrounds,hw,B_cap,B_bar,st0,st1,op,w1)\n",
    "        else:\n",
    "            return B_bar,B_cap \n",
    "            \n",
    "    if((n > 0) & (n != (nrounds - 1))):\n",
    "        print(n)\n",
    "        st1=ROR(st1,alpha)\n",
    "        p_min=p_minimum(n,trail_cap,B_cap,B_bar)\n",
    "        croad=[]\n",
    "        #function that check output is in highway and weight is greater than p_min or not, if it is update croad\n",
    "        maxddt,ddt,max_p=[0]*1,[],0\n",
    "        ck,croad=opcheck_in_highways1(16,0,0,0,st1,st0,0,p_min,maxddt,ddt,croad)\n",
    "        #opcheck_in_highways(0,p_min,st1,st0)\n",
    "        #if croad is still empty then fill it with max probility value for other outputs except highway\n",
    "        if(len(croad) == 0):\n",
    "            maxddt,ddt,max_p=[0]*1,[],0\n",
    "            #print(st1,st0,max_p)\n",
    "            ck,ddt,maxddt=PDDT(SPECK_TYPE,0,0,1,st1,st0,0,max_p,maxddt,ddt)\n",
    "            #max_p,output,ck=max(0,st1,st0)\n",
    "            if(ck==1):\n",
    "                #print(st1,st0,output,max_p)\n",
    "                #croad.append(NMTS(st1,st0,output,max_p))\n",
    "                croad.append(maxddt[0])\n",
    "            else:\n",
    "                return B_bar,B_cap\n",
    "        \n",
    "        #for i in range(0,len(croad)):\n",
    "            #print(croad[i].dx,croad[i].dy,croad[i].dz,croad[i].wt)\n",
    "        #check the inputs in highway or not \n",
    "        crhw = []\n",
    "        temphw=[0]*1\n",
    "        val1,val2,val3,w,chk= searchinhighway(st1,st0)\n",
    "        if(chk==1):\n",
    "            temphw[0]=NMTS(val1,val2,val3,w)\n",
    "            crhw.extend(temphw)\n",
    "        \n",
    "        crhw.extend(croad)\n",
    "        p_r=1\n",
    "        for i in range(0,n):\n",
    "            p_r *= trail_cap[i].wt\n",
    "        for i in range(0,len(crhw)):\n",
    "            B_cap_temp[n]= p_r * crhw[i].wt * B_cap[nrounds - 1 - (n + 1)]\n",
    "            if(B_cap_temp[n]>B_bar):\n",
    "                trail_cap[n]=NMTS(ROL(crhw[i].dx,alpha),crhw[i].dy,crhw[i].dz,crhw[i].wt)\n",
    "                st1=crhw[i].dz\n",
    "                st0=ROL(st0,beta)^st1\n",
    "                return threshold_search(n+1,nrounds,hw,B_cap,B_bar,st0,st1,op,w1)\n",
    "            else:\n",
    "                return B_bar,B_cap\n",
    "            return B_bar,B_cap\n",
    "                    \n",
    "    if(n ==(nrounds - 1)):\n",
    "        st1=ROR(st1,alpha)\n",
    "        #print(n)\n",
    "        maxddt,ddt,max_p=[0]*1,[],0\n",
    "        ck,ddt,maxddt=PDDT(SPECK_TYPE,0.1,0,1,st1,st0,0,max_p,maxddt,ddt)\n",
    "        #max_p,output,ck=max(0.1,st1,st0)\n",
    "        if(ck!=0):\n",
    "            p=maxddt[0].wt\n",
    "            op=maxddt[0].dz\n",
    "        else:\n",
    "            maxddt,ddt,max_p=[0]*1,[],0\n",
    "            ck,ddt,maxddt=PDDT(SPECK_TYPE,0,0,1,st1,st0,0,max_p,maxddt,ddt)\n",
    "            print(st1,st0,max_p)\n",
    "            #max_p,output,ck=max(0,st1,st0)\n",
    "            if(ck==1):\n",
    "                p=maxddt[0].wt\n",
    "                op=maxddt[0].dz\n",
    "            if(p>=0.1):\n",
    "                hw.append(NMTS(st1,st0,op,p))\n",
    "        if(ck==0):\n",
    "            return B_bar,B_cap             \n",
    "        p_r=1\n",
    "        for i in range(0,n):\n",
    "            p_r *= trail_cap[i].wt\n",
    "        B_cap_temp[n]=p * p_r\n",
    "        if(B_cap_temp[n]>B_bar):\n",
    "            print(n)\n",
    "            #print (\"%.16f %.16f\" % (B_cap_temp[n],B_bar))\n",
    "            trail_cap[n]=NMTS(ROL(st1,alpha),st0,op,p)\n",
    "            B_bar=B_cap_temp[n]\n",
    "            for i in range(0,len(B_cap)):\n",
    "                B_cap[i]=trail_cap[i].wt\n",
    "                B_bar=B_cap_temp[n]  \n",
    "            for i in range(0,len(trail_cap)):\n",
    "                print(trail_cap[i].dx,trail_cap[i].dy,trail_cap[i].dz,trail_cap[i].wt)\n",
    "            return B_bar,B_cap\n",
    "        else:\n",
    "            return B_bar,B_cap\n",
    "    "
   ]
  },
  {
   "cell_type": "code",
   "execution_count": null,
   "metadata": {},
   "outputs": [
    {
     "name": "stdout",
     "output_type": "stream",
     "text": [
      "0.000000000000000000000000000404\n",
      "1\n",
      "2\n",
      "3\n",
      "4\n"
     ]
    }
   ],
   "source": [
    "#alpha beta are for left and right circular shift     \n",
    "alpha, beta = 7,2\n",
    "#speck total number of round epresented by nrounds\n",
    "nrounds,n,s=9,0,0\n",
    "SPECK_TYPE=16\n",
    "mask,wshift = 2 ** 16 - 1, 15\n",
    "#B_cap=[0.00048,0.00048,0.0625,0.00048,0.00048,0.00048,0.00048,0.00048,0.00048]\n",
    "B_cap,B_bar=[2**(-11),2**(-22),2**(-33),2**(-38),2**(-49),2**(-60),2**(-71),2**(-82),2**(-91)],2 ** (-91)\n",
    "#B_cap,B_bar=[2**(-11),2**(-22),2**(-33),2**(-38)],2 ** (-38)\n",
    "trail_cap,trail_bar=[0]*nrounds, [0]*nrounds\n",
    "croad,hw,B_cap_temp=[],[],[0]*nrounds\n",
    "st0=0\n",
    "st1=0\n",
    "hlen=408603\n",
    "max_p,output=0,0\n",
    "maxddt,ddt,max_p=[0]*1,[],0\n",
    "print (\"%.30f\" % B_bar)\n",
    "class NMTS(object):\n",
    "    \"\"\"__init__() functions as the class constructor\"\"\"\n",
    "    def __init__(self, dx=None, dy=None, dz=None, wt=None):\n",
    "        self.dx = dx\n",
    "        self.dy = dy\n",
    "        self.dz = dz\n",
    "        self.wt = wt\n",
    "        \n",
    "highwaylist()\n",
    "for ch in range(0,20):\n",
    "    #print(n,nrounds,B_bar,hw[ch].dx,hw[ch].dy,hw[ch].dz,hw[ch].wt)\n",
    "    B_bar,B_cap =threshold_search(n,nrounds,hw,B_cap,B_bar,hw[ch].dx,hw[ch].dy,hw[ch].dz,hw[ch].wt)\n",
    "    #print(\"%.30f\" %B_bar,ch)\n",
    "    print(B_bar,ch)\n",
    "    #for i in range(0,len(B_cap)):\n",
    "        #print(B_cap[i])"
   ]
  },
  {
   "cell_type": "code",
   "execution_count": null,
   "metadata": {
    "collapsed": true
   },
   "outputs": [],
   "source": []
  }
 ],
 "metadata": {
  "kernelspec": {
   "display_name": "Python 3",
   "language": "python",
   "name": "python3"
  },
  "language_info": {
   "codemirror_mode": {
    "name": "ipython",
    "version": 3
   },
   "file_extension": ".py",
   "mimetype": "text/x-python",
   "name": "python",
   "nbconvert_exporter": "python",
   "pygments_lexer": "ipython3",
   "version": "3.6.1"
  }
 },
 "nbformat": 4,
 "nbformat_minor": 2
}
