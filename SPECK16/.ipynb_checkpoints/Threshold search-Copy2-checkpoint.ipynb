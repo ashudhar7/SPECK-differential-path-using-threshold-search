{
 "cells": [
  {
   "cell_type": "markdown",
   "metadata": {},
   "source": [
    "### function to calculate minimum probility p_min to check given condition"
   ]
  },
  {
   "cell_type": "code",
   "execution_count": 77,
   "metadata": {
    "collapsed": true
   },
   "outputs": [],
   "source": [
    "def p_minimum(n,trail_cap,B_cap,B_bar):\n",
    "        p_min = 1.0;\n",
    "        for i in range(0,n-1):\n",
    "            p_min *= trail_cap[i].wt\n",
    "        p_min = p_min * B_cap[nrounds - 1 - (n + 1)]; \n",
    "        p_min = B_bar/p_min \n",
    "        return p_min"
   ]
  },
  {
   "cell_type": "markdown",
   "metadata": {},
   "source": [
    "### function to check given inputs are available in highways path list or not "
   ]
  },
  {
   "cell_type": "code",
   "execution_count": 78,
   "metadata": {
    "collapsed": true
   },
   "outputs": [],
   "source": [
    "def searchinhighway(val1,val2):\n",
    "    c=(list(filter(lambda x: x.dx == val1 and x.dy == val2, hw)))\n",
    "    if(len(c)!=0):\n",
    "        return c[0].dx,c[0].dy,c[0].dz,c[0].wt,1\n",
    "    else:\n",
    "        return 0,0,0,0,0"
   ]
  },
  {
   "cell_type": "markdown",
   "metadata": {},
   "source": [
    "### function to import highways list into program and saving in \"hw\" list"
   ]
  },
  {
   "cell_type": "code",
   "execution_count": 79,
   "metadata": {
    "collapsed": true
   },
   "outputs": [],
   "source": [
    "def highwaylist():\n",
    "    alph,bet,gam,pro = [],[],[],[]\n",
    "    with open('alph.txt') as ip1, open('bet.txt') as ip2, open('gam.txt') as ip3, open('pro.txt') as ip4:\n",
    "        for i1,i2,i3,i4 in zip(ip1,ip2,ip3,ip4):\n",
    "            hw.append(NMTS(int(i1.strip()),int(i2.strip()),int(i3.strip()),float(i4.strip()))) \n",
    "            "
   ]
  },
  {
   "cell_type": "markdown",
   "metadata": {},
   "source": [
    "### function to calculate weight "
   ]
  },
  {
   "cell_type": "code",
   "execution_count": 80,
   "metadata": {
    "collapsed": true
   },
   "outputs": [],
   "source": [
    "def weight(alpha1,beta1,gamma1): \n",
    "    if(alpha1==0 and beta1==0 and gamma1==0):\n",
    "        return -200\n",
    "    x1= (alpha1 << 1)& mask\n",
    "    y1= (beta1  << 1)& mask\n",
    "    z1= (gamma1  << 1)& mask\n",
    "    not_x=(x1^mask)\n",
    "    eq=((not_x)^y1)&(not_x^z1)\n",
    "    s=eq&(alpha1^beta1^gamma1^(y1))\n",
    "    if(s==0):        \n",
    "        h=bin((~eq)& mask)\n",
    "        wt=(h[1:].count(\"1\"))\n",
    "        return math.pow(2,-wt)\n",
    "    else:\n",
    "        return -200"
   ]
  },
  {
   "cell_type": "markdown",
   "metadata": {},
   "source": [
    "### function that takes two fixed inputs and for all possible outputs with weight greater than p_min it checks output is in highways or not "
   ]
  },
  {
   "cell_type": "code",
   "execution_count": 81,
   "metadata": {},
   "outputs": [],
   "source": [
    "import random\n",
    "import math \n",
    "alpha, beta = 7,2\n",
    "def opcheck_in_highways(p_thres,p_min,da,db):\n",
    "    for z in range(0,mask):\n",
    "        wt= weight(da,db,z)\n",
    "        if(wt >= p_thres):\n",
    "            dc=z\n",
    "            x,y,z,w,chk=searchinhighway(ROL(da,beta)^dc,ROR(dc,alpha))\n",
    "            if(w>p_min):\n",
    "                croad.append(NMTS(x,y,z,w))\n",
    "    return    "
   ]
  },
  {
   "cell_type": "markdown",
   "metadata": {},
   "source": [
    "### function that takes two input alpha and beta and for all output gamma its check the one output with max prob"
   ]
  },
  {
   "cell_type": "code",
   "execution_count": 82,
   "metadata": {
    "collapsed": true
   },
   "outputs": [],
   "source": [
    "import random\n",
    "import math \n",
    "def store(da,db,dc,wt):\n",
    "    if(wt>=store.max_p):\n",
    "        store.max_p=wt\n",
    "        store.output=dc\n",
    "        store.ck=1\n",
    "    return \n",
    "\n",
    "def max(p_thres,da,db):\n",
    "    for z in range(0,mask):\n",
    "        wt= weight(da,db,z)\n",
    "        if(wt >= p_thres):\n",
    "            dc=z\n",
    "            store(da,db,dc,wt)\n",
    "          "
   ]
  },
  {
   "cell_type": "markdown",
   "metadata": {},
   "source": [
    "### function to perform left and right circular rotation "
   ]
  },
  {
   "cell_type": "code",
   "execution_count": 83,
   "metadata": {
    "collapsed": true
   },
   "outputs": [],
   "source": [
    "\n",
    "#right circular shifts\n",
    "def ROR(x,r):\n",
    "    x = ((x << (SPECK_TYPE - r)) + (x >> r)) & mask\n",
    "    return x\n",
    "\n",
    "#left circular shifts\n",
    "def ROL(x,r):\n",
    "    x = ((x >> (SPECK_TYPE - r)) + (x << r)) & mask\n",
    "    return x"
   ]
  },
  {
   "cell_type": "markdown",
   "metadata": {},
   "source": [
    "### main function for threshold search"
   ]
  },
  {
   "cell_type": "code",
   "execution_count": 94,
   "metadata": {
    "collapsed": true
   },
   "outputs": [],
   "source": [
    "def threshold_search(n,nrounds,hw,B_cap,B_bar,st0,st1):\n",
    "    if(n == 0): \n",
    "        for ch in range(0,1):\n",
    "            print(ch,B_bar)  \n",
    "            B_cap_temp=hw[ch].wt*B_cap[nrounds-1-(n+1)]\n",
    "            if(B_cap_temp>B_bar):\n",
    "                trail_cap[n]= NMTS(ROL(hw[ch].dy,alpha),hw[ch].dx,hw[ch].dz,hw[ch].wt)\n",
    "                st1=hw[ch].dz\n",
    "                st0=ROL(st0,beta)^st1\n",
    "                threshold_search(n+1,nrounds,hw,B_cap,B_bar,st0,st1)\n",
    "    \n",
    "    if((n > 0) & (n != (nrounds - 1))):\n",
    "        st1=ROR(st1,alpha)\n",
    "        p_min=p_minimum(n,trail_cap,B_cap,B_bar)\n",
    "        croad=[]\n",
    "        #function that check output is in highway and weight is greater than p_min or not, if it is update croad\n",
    "        opcheck_in_highways(0,p_min,st0,st1)\n",
    "        #if croad is still empty then fill it with max probility value for other outputs except highway\n",
    "        if(len(croad) == 0):\n",
    "            store.max_p=0\n",
    "            max(0,st0,st1)\n",
    "            if(store.max_p!=0):\n",
    "                croad.append(NMTS(st0,st1,output,store.max_p))\n",
    "            else:\n",
    "                return\n",
    "        \n",
    "        #check the inputs in highway or not \n",
    "        crhw = []\n",
    "        temphw=[0]*1\n",
    "        val1,val2,val3,w,chk= searchinhighway(st0,st1)\n",
    "        if(chk==1):\n",
    "            temphw[0]=NMTS(val1,val2,val3,w)\n",
    "            crhw.extend(temphw)\n",
    "            \n",
    "        crhw.extend(croad)\n",
    "        p_r=1\n",
    "        for i in range(0,n-1):\n",
    "            p_r *= trail_cap[i].wt\n",
    "        for i in range(0,len(crhw)):\n",
    "            B_cap_temp= p_r * crhw[i].wt * B_cap[nrounds - 1 - (n + 1)]\n",
    "            if(B_cap_temp>B_bar):\n",
    "                trail_cap[n]=NMTS(ROL(crhw[i].dx,alpha),crhw[i].dy,crhw[i].dz,crhw[i].wt)\n",
    "                st1=crhw[i].dz\n",
    "                st0=ROL(st0,beta)^st1\n",
    "                threshold_search(n+1,nrounds,hw,B_cap,B_bar,st0,st1)\n",
    "            else:\n",
    "                return\n",
    "                    \n",
    "    if(n ==(nrounds - 1)):\n",
    "        store.max_p=0\n",
    "        max(0.1,st0,st1)\n",
    "        if(store.max_p!=0):\n",
    "            p=store.max_p\n",
    "            op=store.output\n",
    "        if(store.max_p==0):\n",
    "            max(0,st0,st1)\n",
    "        if(store.max_p!=0):\n",
    "            p=store.max_p\n",
    "            op=store.output\n",
    "            if(p>=0.1):\n",
    "                hw.append(NMTS(st0,st1,op,p))\n",
    "        else:\n",
    "            return             \n",
    "        p_r=1\n",
    "        for i in range(0,n-1):\n",
    "            p_r *= trail_cap[i].wt\n",
    "        B_cap_temp=p * p_r\n",
    "        if(B_cap_temp>B_bar):\n",
    "            print (\"%.16f %.16f\" % (B_cap_temp,B_bar))\n",
    "            trail_cap[n]=NMTS(st0,st1,op,p)\n",
    "            B_bar=B_cap_temp\n",
    "        else:\n",
    "            return\n",
    "    B_bar=B_cap_temp\n",
    "    #print (\"%.16f\" % B_bar)\n",
    "    return B_bar, trail_bar        "
   ]
  },
  {
   "cell_type": "code",
   "execution_count": 95,
   "metadata": {},
   "outputs": [
    {
     "name": "stdout",
     "output_type": "stream",
     "text": [
      "0.0000000000036380\n",
      "0 3.637978807091713e-12\n",
      "0.0625000000000000 0.0000000000036380\n",
      "0.0312500000000000 0.0000000000036380\n",
      "0.0156250000000000 0.0000000000036380\n",
      "0.0312500000000000 0.0000000000036380\n"
     ]
    }
   ],
   "source": [
    "#alpha beta are for left and right circular shift     \n",
    "alpha, beta = 7,2\n",
    "#speck total number of round epresented by nrounds\n",
    "nrounds,n=4,0\n",
    "SPECK_TYPE=16\n",
    "mask,wshift = 2 ** 16 - 1, 15\n",
    "#B_cap=[0.00048,0.00048,0.0625,0.00048,0.00048,0.00048,0.00048,0.00048,0.00048]\n",
    "#B_cap,B_bar=[2**(-11),2**(-22),2**(-33),2**(-38),2**(-49),2**(-60),2**(-71),2**(-82),2**(-91)],2 ** (-91)\n",
    "B_cap,B_bar=[2**(-11),2**(-22),2**(-33),2**(-38)],2 ** (-38)\n",
    "trail_cap,trail_bar=[0]*4, [0]*4\n",
    "#trail_cap,trail_bar=[0]*9, [0]*9\n",
    "croad,hw=[],[] \n",
    "st0=0\n",
    "st1=0\n",
    "hlen=408603\n",
    "max_p,output=0,0\n",
    "print (\"%.16f\" % B_bar)\n",
    "class NMTS(object):\n",
    "    \"\"\"__init__() functions as the class constructor\"\"\"\n",
    "    def __init__(self, dx=None, dy=None, dz=None, wt=None):\n",
    "        self.dx = dx\n",
    "        self.dy = dy\n",
    "        self.dz = dz\n",
    "        self.wt = wt\n",
    "        \n",
    "highwaylist()\n",
    "B_bar, trail_bar =threshold_search(n,nrounds,hw,B_cap,B_bar,st0,st1)\n",
    "#print(B_bar)"
   ]
  },
  {
   "cell_type": "code",
   "execution_count": null,
   "metadata": {
    "collapsed": true
   },
   "outputs": [],
   "source": []
  },
  {
   "cell_type": "code",
   "execution_count": null,
   "metadata": {
    "collapsed": true
   },
   "outputs": [],
   "source": []
  }
 ],
 "metadata": {
  "kernelspec": {
   "display_name": "Python 3",
   "language": "python",
   "name": "python3"
  },
  "language_info": {
   "codemirror_mode": {
    "name": "ipython",
    "version": 3
   },
   "file_extension": ".py",
   "mimetype": "text/x-python",
   "name": "python",
   "nbconvert_exporter": "python",
   "pygments_lexer": "ipython3",
   "version": "3.6.1"
  }
 },
 "nbformat": 4,
 "nbformat_minor": 2
}
