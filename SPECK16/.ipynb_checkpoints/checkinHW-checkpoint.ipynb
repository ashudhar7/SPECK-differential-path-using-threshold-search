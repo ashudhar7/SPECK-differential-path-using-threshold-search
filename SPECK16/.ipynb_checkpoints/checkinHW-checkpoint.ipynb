{
 "cells": [
  {
   "cell_type": "code",
   "execution_count": 4,
   "metadata": {
    "collapsed": true
   },
   "outputs": [],
   "source": [
    "def searchinhighway(val1,val2):\n",
    "    for i in range(0,len(hw)):\n",
    "        if((hw[i].dx == 'val1') and (hw[i].dy == 'val2')):\n",
    "            val1,val2,val3,w = hw[i].dx,hw[i].dy,hw[i].dz,hw[i].wt\n",
    "            chk=1\n",
    "            return val1,val2,val3,w,chk\n",
    "            break\n",
    "    return 0,0,0,0,0\n",
    "        "
   ]
  },
  {
   "cell_type": "code",
   "execution_count": 5,
   "metadata": {
    "collapsed": true
   },
   "outputs": [],
   "source": [
    "def highwaylist():\n",
    "    alph,bet,gam,pro = [],[],[],[]\n",
    "    with open('alph.txt') as ip1, open('bet.txt') as ip2, open('gam.txt') as ip3, open('pro.txt') as ip4:\n",
    "        for i1,i2,i3,i4 in zip(ip1,ip2,ip3,ip4):\n",
    "            hw.append(NMTS(i1.strip(),i2.strip(),i3.strip(),i4.strip()))\n",
    "    "
   ]
  },
  {
   "cell_type": "code",
   "execution_count": 6,
   "metadata": {},
   "outputs": [
    {
     "name": "stdout",
     "output_type": "stream",
     "text": [
      "0x0 0x0 0x0 0\n"
     ]
    }
   ],
   "source": [
    "class NMTS(object):\n",
    "    \"\"\"__init__() functions as the class constructor\"\"\"\n",
    "    def __init__(self, dx=None, dy=None, dz=None, wt=None):\n",
    "        self.dx = dx\n",
    "        self.dy = dy\n",
    "        self.dz = dz\n",
    "        self.wt = wt\n",
    "hw=[]   \n",
    "val1,val2,val3,w,chk=searchinhighway(7,5)\n",
    "print(hex(val1),hex(val2),hex(val3),w)\n"
   ]
  },
  {
   "cell_type": "code",
   "execution_count": null,
   "metadata": {
    "collapsed": true
   },
   "outputs": [],
   "source": []
  }
 ],
 "metadata": {
  "kernelspec": {
   "display_name": "Python 3",
   "language": "python",
   "name": "python3"
  },
  "language_info": {
   "codemirror_mode": {
    "name": "ipython",
    "version": 3
   },
   "file_extension": ".py",
   "mimetype": "text/x-python",
   "name": "python",
   "nbconvert_exporter": "python",
   "pygments_lexer": "ipython3",
   "version": "3.6.1"
  }
 },
 "nbformat": 4,
 "nbformat_minor": 2
}
