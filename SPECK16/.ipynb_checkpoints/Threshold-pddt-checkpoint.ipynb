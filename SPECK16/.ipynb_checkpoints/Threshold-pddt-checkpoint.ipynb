{
 "cells": [
  {
   "cell_type": "markdown",
   "metadata": {},
   "source": [
    "### function to calculate minimum probility p_min to check given condition"
   ]
  },
  {
   "cell_type": "code",
   "execution_count": 60,
   "metadata": {
    "collapsed": true
   },
   "outputs": [],
   "source": [
    "def p_minimum(n,trail_cap,B_cap,B_bar):\n",
    "        p_min = 1.0;\n",
    "        for i in range(0,n):\n",
    "            p_min *= trail_cap[i].wt\n",
    "        p_min = p_min * B_cap[nrounds - 1 - (n + 1)]; \n",
    "        p_min = B_bar/p_min\n",
    "        #print(B_bar,p_min)\n",
    "        return p_min"
   ]
  },
  {
   "cell_type": "markdown",
   "metadata": {},
   "source": [
    "### function to check given inputs are available in highways path list or not "
   ]
  },
  {
   "cell_type": "code",
   "execution_count": 61,
   "metadata": {
    "collapsed": true
   },
   "outputs": [],
   "source": [
    "def highwaylist():\n",
    "    alph,bet,gam,pro = [],[],[],[]\n",
    "    with open('alph.txt') as ip1, open('bet.txt') as ip2, open('gam.txt') as ip3, open('pro.txt') as ip4:\n",
    "        for i1,i2,i3,i4 in zip(ip1,ip2,ip3,ip4):\n",
    "            hw.append(NMTS(int(i1.strip()),int(i2.strip()),int(i3.strip()),float(i4.strip()))) \n",
    "            "
   ]
  },
  {
   "cell_type": "markdown",
   "metadata": {},
   "source": [
    "### function to calculate weight "
   ]
  },
  {
   "cell_type": "code",
   "execution_count": 62,
   "metadata": {
    "collapsed": true
   },
   "outputs": [],
   "source": [
    "def weight(alpha1,beta1,gamma1): \n",
    "    if(alpha1==0 and beta1==0 and gamma1==0):\n",
    "        return -200\n",
    "    x1= (alpha1 << 1)& mask\n",
    "    y1= (beta1  << 1)& mask\n",
    "    z1= (gamma1  << 1)& mask\n",
    "    not_x=(x1^mask)\n",
    "    eq=((not_x)^y1)&(not_x^z1)\n",
    "    s=eq&(alpha1^beta1^gamma1^(y1))\n",
    "    if(s==0):        \n",
    "        h=bin((~eq)& mask)\n",
    "        wt=(h[1:].count(\"1\"))\n",
    "        return math.pow(2,-wt)\n",
    "    else:\n",
    "        return -200"
   ]
  },
  {
   "cell_type": "code",
   "execution_count": 63,
   "metadata": {
    "collapsed": true
   },
   "outputs": [],
   "source": [
    "#weight(0, 673, 0)"
   ]
  },
  {
   "cell_type": "code",
   "execution_count": null,
   "metadata": {
    "collapsed": true
   },
   "outputs": [],
   "source": [
    "##function to update croad with prob more than pmin and output is in highway"
   ]
  },
  {
   "cell_type": "code",
   "execution_count": 76,
   "metadata": {
    "collapsed": true
   },
   "outputs": [],
   "source": [
    "def PDDT1(n,p_thres,k,wt,da,db,dc,s,maxddt,ddt):\n",
    "    if(n==k):\n",
    "        ddt.append(NMTS(da,db,dc,wt))\n",
    "        #print(da,db,dc,s)\n",
    "        if(wt>=s):\n",
    "            maxddt.append(NMTS(da,db,dc,wt))\n",
    "            #print(maxddt[0].dx,maxddt[0].dy,maxddt[0].dz,maxddt[0].wt,s)\n",
    "        #print(da,db,dc,wt)\n",
    "        return \n",
    "    \n",
    "    for z in range(0,2):\n",
    "        new_dc= (dc | (z<<k) & mask)\n",
    "        wt= weight(da,db,new_dc)\n",
    "        if(wt >= p_thres or (k+1)!=n):                    \n",
    "            PDDT1(n,p_thres,k+1,wt,da,db,new_dc,s,maxddt,ddt) \n",
    "            \n",
    "    if(len(ddt)==0):\n",
    "        return 0,ddt,maxddt\n",
    "    else:\n",
    "        return 1,ddt,maxddt\n",
    "   "
   ]
  },
  {
   "cell_type": "code",
   "execution_count": null,
   "metadata": {
    "collapsed": true
   },
   "outputs": [],
   "source": [
    "##fucntion to find output for which weight is max"
   ]
  },
  {
   "cell_type": "code",
   "execution_count": 71,
   "metadata": {
    "collapsed": true
   },
   "outputs": [],
   "source": [
    "def PDDT(n,p_thres,k,wt,da,db,dc,s,maxddt,ddt):\n",
    "    if(n==k):\n",
    "        ddt.append(NMTS(da,db,dc,wt))\n",
    "        #print(da,db,dc,s)\n",
    "        if(wt>=s):\n",
    "            s=wt\n",
    "            maxddt.append(NMTS(da,db,dc,s))\n",
    "            #print(maxddt[0].dx,maxddt[0].dy,maxddt[0].dz,maxddt[0].wt,s)\n",
    "        #print(da,db,dc,wt)\n",
    "        return \n",
    "    \n",
    "    for z in range(0,2):\n",
    "        new_dc= (dc | (z<<k) & mask)\n",
    "        wt= weight(da,db,new_dc)\n",
    "        if(wt >= p_thres or (k+1)!=n):                    \n",
    "            PDDT(n,p_thres,k+1,wt,da,db,new_dc,s,maxddt,ddt) \n",
    "            \n",
    "    if(len(ddt)==0):\n",
    "        return 0,ddt,maxddt\n",
    "    else:\n",
    "        return 1,ddt,maxddt\n",
    "   "
   ]
  },
  {
   "cell_type": "code",
   "execution_count": 72,
   "metadata": {
    "collapsed": true
   },
   "outputs": [],
   "source": [
    "#ck,ddt,maxddt=PDDT(16,0.1,0,1,256,33802,0,s)\n",
    "#print(ck)"
   ]
  },
  {
   "cell_type": "markdown",
   "metadata": {},
   "source": [
    "### function to perform left and right circular rotation "
   ]
  },
  {
   "cell_type": "code",
   "execution_count": 73,
   "metadata": {
    "collapsed": true
   },
   "outputs": [],
   "source": [
    "\n",
    "#right circular shifts\n",
    "def ROR(x,r):\n",
    "    x = ((x << (SPECK_TYPE - r)) + (x >> r)) & mask\n",
    "    return x\n",
    "\n",
    "#left circular shifts\n",
    "def ROL(x,r):\n",
    "    x = ((x >> (SPECK_TYPE - r)) + (x << r)) & mask\n",
    "    return x"
   ]
  },
  {
   "cell_type": "markdown",
   "metadata": {},
   "source": [
    "### main function for threshold search"
   ]
  },
  {
   "cell_type": "code",
   "execution_count": 74,
   "metadata": {
    "collapsed": true
   },
   "outputs": [],
   "source": [
    "def threshold_search(n,nrounds,hw,B_cap,B_bar,B_barlist,st0,st1,op,w1):\n",
    "    if(n == 0): \n",
    "        #print(n)\n",
    "        #print(\"loop\")\n",
    "        #print(st1,st0,op,w1)\n",
    "        B_cap_temp[nrounds-1]=w1*B_cap[nrounds-1-(n+1)]\n",
    "        if(B_cap_temp[nrounds-1]>B_bar):\n",
    "            B_barlist[n]=w1\n",
    "            trail_cap[n]= NMTS(ROL(st1,alpha),st0,op,w1)\n",
    "            st1=op\n",
    "            st0=ROL(st0,beta)^st1\n",
    "            return threshold_search(n+1,nrounds,hw,B_cap,B_bar,B_barlist,st0,st1,op,w1)\n",
    "        else:\n",
    "            return B_bar,B_cap \n",
    "            \n",
    "    if((n > 0) & (n != (nrounds - 1))):\n",
    "        #print(n)\n",
    "        st1=ROR(st1,alpha)\n",
    "        p_min=p_minimum(n,trail_cap,B_cap,B_bar)\n",
    "        croad=[]\n",
    "        #function that check output is in highway and weight is greater than p_min or not, if it is update croad\n",
    "        maxddt,ddt,max_p=[],[],0\n",
    "        ck,ddt,maxddt=PDDT1(SPECK_TYPE,0.1,0,1,st1,st0,0,p_min,maxddt,ddt)\n",
    "        if(ck==1):\n",
    "            for i in range(0,len(maxddt)):\n",
    "                croad.append(NMTS(maxddt[i].dx,maxddt[i].dy,maxddt[i].dz,maxddt[i].wt))\n",
    "                         \n",
    "        #opcheck_in_highways(0,p_min,st1,st0)\n",
    "        #if croad is still empty then fill it with max probility value for other outputs except highway\n",
    "        if(len(croad) == 0):\n",
    "            crddt,ddt,max_p=[],[],0\n",
    "            #print(st1,st0,max_p)\n",
    "            ck,ddt,crddt=PDDT(SPECK_TYPE,0,0,1,st1,st0,0,max_p,crddt,ddt)\n",
    "            #max_p,output,ck=max(0,st1,st0)\n",
    "            if(ck==1):\n",
    "                for i in range(0,len(crddt)):\n",
    "                    croad.append(NMTS(crddt[i].dx,crddt[i].dy,crddt[i].dz,crddt[i].wt))\n",
    "            else:\n",
    "                return B_bar,B_cap\n",
    "        \n",
    "        #for i in range(0,len(croad)):\n",
    "            #print(croad[i].dx,croad[i].dy,croad[i].dz,croad[i].wt)\n",
    "        #check the inputs in highway or not \n",
    "        crhw = []\n",
    "        temphw=[]\n",
    "        maxddt,ddt,max_p=[],[],0\n",
    "        ck,ddt,maxddt=PDDT(SPECK_TYPE,0.1,0,1,st1,st0,0,max_p,maxddt,ddt)\n",
    "        #val1,val2,val3,w,chk= searchinhighway(st1,st0)\n",
    "        if(ck==1):\n",
    "            for i in range(0,len(ddt)):\n",
    "                crhw.append(NMTS(ddt[i].dx,ddt[i].dy,ddt[i].dz,ddt[i].wt))\n",
    "        \n",
    "        for i in range(0,len(croad)):\n",
    "            crhw.append(NMTS(croad[i].dx,croad[i].dy,croad[i].dz,croad[i].wt))\n",
    "\n",
    "            \n",
    "        p_r=1\n",
    "        for i in range(0,n):\n",
    "            p_r *= trail_cap[i].wt\n",
    "        for i in range(0,len(crhw)):\n",
    "            B_cap_temp[nrounds-1]= p_r * crhw[i].wt * B_cap[nrounds - 1 - (n + 1)]\n",
    "            if(B_cap_temp[nrounds-1]>B_bar):\n",
    "                B_barlist[n]=p_r * crhw[i].wt\n",
    "                trail_cap[n]=NMTS(ROL(crhw[i].dx,alpha),crhw[i].dy,crhw[i].dz,crhw[i].wt)\n",
    "                st1=crhw[i].dz\n",
    "                st0=ROL(st0,beta)^st1\n",
    "                return threshold_search(n+1,nrounds,hw,B_cap,B_bar,B_barlist,st0,st1,op,w1)\n",
    "            else:\n",
    "                return B_bar,B_cap\n",
    "            return B_bar,B_cap\n",
    "                    \n",
    "    if(n ==(nrounds - 1)):\n",
    "        st1=ROR(st1,alpha)\n",
    "        #print(n)\n",
    "        crddt,ddt,max_p=[],[],0\n",
    "        ck,ddt,crddt=PDDT(SPECK_TYPE,0.1,0,1,st1,st0,0,max_p,crddt,ddt)\n",
    "        #max_p,output,ck=max(0,st1,st0)\n",
    "        if(ck==1):\n",
    "            p=crddt[0].wt\n",
    "            op=crddt[0].dz\n",
    "        else:\n",
    "            crddt,ddt,max_p=[],[],0\n",
    "            ck,ddt,crddt=PDDT(SPECK_TYPE,0,0,1,st1,st0,0,max_p,crddt,ddt)\n",
    "            if(ck==1):\n",
    "                p=crddt[0].wt\n",
    "                op=crddt[0].dz\n",
    "                if(p>=0.1):\n",
    "                     hw.append(NMTS(st1,st0,op,p))\n",
    "                \n",
    "        if(ck==0):\n",
    "            return B_bar,B_cap             \n",
    "        p_r=1\n",
    "        for i in range(0,n):\n",
    "            p_r *= trail_cap[i].wt\n",
    "        B_cap_temp[nrounds-1]=p * p_r\n",
    "        if(B_cap_temp[nrounds-1]>B_bar):\n",
    "            B_barlist[n]=B_cap_temp[nrounds-1]\n",
    "            #print (\"%.16f %.16f\" % (B_cap_temp[n],B_bar))\n",
    "            trail_cap[n]=NMTS(ROL(st1,alpha),st0,op,p)\n",
    "            B_bar=B_cap_temp[nrounds-1]\n",
    "            for i in range(0,len(B_cap)):\n",
    "                B_cap[i]=B_barlist[i]\n",
    "                B_bar=B_cap_temp[n]  \n",
    "            for i in range(0,len(trail_cap)):\n",
    "                print(trail_cap[i].dx,trail_cap[i].dy,trail_cap[i].dz,trail_cap[i].wt)\n",
    "            return B_bar,B_cap\n",
    "        else:\n",
    "            return B_bar,B_cap\n",
    "    "
   ]
  },
  {
   "cell_type": "code",
   "execution_count": null,
   "metadata": {},
   "outputs": [
    {
     "name": "stdout",
     "output_type": "stream",
     "text": [
      "0.000000000000000000000000000404\n",
      "64 16384 16384 0.5\n",
      "16384 16385 16513 0.125\n",
      "16513 16516 16901 0.03125\n",
      "16901 16404 19088 0.015625\n",
      "19088 19137 10836 0.001953125\n",
      "10836 337 43269 0.0078125\n",
      "43269 44097 41233 0.001953125\n",
      "41233 4119 4433 0.001953125\n",
      "4433 20749 4385 0.0009765625\n",
      "1.734723475976807e-18 13\n",
      "64 16384 49152 0.5\n",
      "49152 49153 16513 0.0625\n",
      "16513 16518 16897 0.015625\n",
      "16897 16408 17028 0.015625\n",
      "17028 17125 18976 0.00390625\n",
      "18976 16821 1 0.0078125\n",
      "1 1748 84 0.015625\n",
      "84 6916 33028 0.015625\n",
      "33028 60692 9234 0.00390625\n",
      "2.220446049250313e-16 14\n",
      "2.220446049250313e-16 15\n",
      "2.220446049250313e-16 16\n",
      "2.220446049250313e-16 17\n",
      "2.220446049250313e-16 18\n",
      "32 16384 0 0.5\n",
      "0 1 1 0.5\n",
      "1 5 517 0.125\n",
      "517 529 2069 0.03125\n",
      "2069 81 10817 0.015625\n",
      "10817 11013 43345 0.00390625\n",
      "43345 1349 40977 0.001953125\n",
      "40977 46341 36933 0.00390625\n",
      "36933 17491 16657 0.0009765625\n",
      "4.440892098500626e-16 19\n",
      "4.440892098500626e-16 20\n",
      "4.440892098500626e-16 21\n",
      "4.440892098500626e-16 22\n",
      "4.440892098500626e-16 23\n",
      "4.440892098500626e-16 24\n",
      "4.440892098500626e-16 25\n",
      "4.440892098500626e-16 26\n",
      "16 0 8192 0.5\n",
      "8192 8192 8256 0.25\n",
      "8256 41024 8192 0.25\n",
      "8192 41218 41282 0.0625\n",
      "41282 9544 40970 0.015625\n",
      "40970 13610 42 0.00390625\n",
      "42 54402 130 0.03125\n",
      "130 21129 21128 0.0078125\n",
      "21128 6317 2048 0.0078125\n",
      "2.2737367544323206e-13 27\n",
      "80 0 40960 0.5\n",
      "40960 40960 41280 0.125\n",
      "41280 8514 40960 0.0625\n",
      "40960 9480 9288 0.03125\n",
      "9288 45160 32 0.03125\n",
      "32 49538 130 0.0625\n",
      "130 1673 648 0.03125\n",
      "648 6316 2209 0.0078125\n",
      "2209 27153 10240 0.015625\n",
      "9.094947017729282e-13 28\n",
      "9.094947017729282e-13 29\n",
      "9.094947017729282e-13 30\n",
      "9.094947017729282e-13 31\n",
      "9.094947017729282e-13 32\n",
      "9.094947017729282e-13 33\n",
      "9.094947017729282e-13 34\n",
      "9.094947017729282e-13 35\n",
      "9.094947017729282e-13 36\n",
      "9.094947017729282e-13 37\n",
      "9.094947017729282e-13 38\n",
      "9.094947017729282e-13 39\n",
      "9.094947017729282e-13 40\n",
      "9.094947017729282e-13 41\n",
      "9.094947017729282e-13 42\n",
      "9.094947017729282e-13 43\n",
      "9.094947017729282e-13 44\n",
      "9.094947017729282e-13 45\n",
      "9.094947017729282e-13 46\n",
      "9.094947017729282e-13 47\n",
      "9.094947017729282e-13 48\n",
      "9.094947017729282e-13 49\n",
      "9.094947017729282e-13 50\n",
      "9.094947017729282e-13 51\n",
      "9.094947017729282e-13 52\n",
      "9.094947017729282e-13 53\n",
      "9.094947017729282e-13 54\n",
      "9.094947017729282e-13 55\n",
      "9.094947017729282e-13 56\n",
      "9.094947017729282e-13 57\n",
      "9.094947017729282e-13 58\n",
      "9.094947017729282e-13 59\n",
      "9.094947017729282e-13 60\n",
      "9.094947017729282e-13 61\n",
      "9.094947017729282e-13 62\n",
      "9.094947017729282e-13 63\n",
      "9.094947017729282e-13 64\n",
      "9.094947017729282e-13 65\n",
      "9.094947017729282e-13 66\n",
      "9.094947017729282e-13 67\n",
      "9.094947017729282e-13 68\n",
      "9.094947017729282e-13 69\n"
     ]
    }
   ],
   "source": [
    "import random\n",
    "import math \n",
    "#alpha beta are for left and right circular shift     \n",
    "alpha, beta = 7,2\n",
    "#speck total number of round epresented by nrounds\n",
    "nrounds,n,s=9,0,0\n",
    "SPECK_TYPE=16\n",
    "mask,wshift = 2 ** 16 - 1, 15\n",
    "#B_cap=[0.00048,0.00048,0.0625,0.00048,0.00048,0.00048,0.00048,0.00048,0.00048]\n",
    "B_cap,B_bar=[2**(-11),2**(-22),2**(-33),2**(-38),2**(-49),2**(-60),2**(-71),2**(-82),2**(-91)],2 ** (-91)\n",
    "B_barlist=[0]*nrounds\n",
    "#B_cap,B_bar=[2**(-11),2**(-22),2**(-33),2**(-38)],2 ** (-38)\n",
    "trail_cap,trail_bar=[0]*nrounds, [0]*nrounds\n",
    "croad,hw,B_cap_temp=[],[],[0]*nrounds\n",
    "st0=0xA60\n",
    "st1=0x4205\n",
    "hlen=408603\n",
    "max_p,output=0,0\n",
    "maxddt,ddt,max_p=[],[],0\n",
    "print (\"%.30f\" % B_bar)\n",
    "class NMTS(object):\n",
    "    \"\"\"__init__() functions as the class constructor\"\"\"\n",
    "    def __init__(self, dx=None, dy=None, dz=None, wt=None):\n",
    "        self.dx = dx\n",
    "        self.dy = dy\n",
    "        self.dz = dz\n",
    "        self.wt = wt\n",
    "        \n",
    "highwaylist()\n",
    "for ch in range(13,12000):\n",
    "    #print(n,nrounds,B_bar,hw[ch].dx,hw[ch].dy,hw[ch].dz,hw[ch].wt)\n",
    "    B_bar,B_cap =threshold_search(n,nrounds,hw,B_cap,B_bar,B_barlist,hw[ch].dx,hw[ch].dy,hw[ch].dz,hw[ch].wt)\n",
    "    #print(\"%.30f\" %B_bar,ch)\n",
    "    print(B_bar,ch)\n",
    "    #for i in range(0,len(B_cap)):\n",
    "        #print(B_cap[i])"
   ]
  },
  {
   "cell_type": "code",
   "execution_count": null,
   "metadata": {
    "collapsed": true
   },
   "outputs": [],
   "source": []
  }
 ],
 "metadata": {
  "kernelspec": {
   "display_name": "Python 3",
   "language": "python",
   "name": "python3"
  },
  "language_info": {
   "codemirror_mode": {
    "name": "ipython",
    "version": 3
   },
   "file_extension": ".py",
   "mimetype": "text/x-python",
   "name": "python",
   "nbconvert_exporter": "python",
   "pygments_lexer": "ipython3",
   "version": "3.6.1"
  }
 },
 "nbformat": 4,
 "nbformat_minor": 2
}
